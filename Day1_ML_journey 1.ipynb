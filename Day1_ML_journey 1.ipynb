{
  "nbformat": 4,
  "nbformat_minor": 0,
  "metadata": {
    "colab": {
      "provenance": []
    },
    "kernelspec": {
      "name": "python3",
      "display_name": "Python 3"
    },
    "language_info": {
      "name": "python"
    }
  },
  "cells": [
    {
      "cell_type": "code",
      "execution_count": null,
      "metadata": {
        "colab": {
          "base_uri": "https://localhost:8080/"
        },
        "id": "HpmbKqI7jltH",
        "outputId": "0ec1bf68-5f68-4ec7-f746-ea081ec8cab5"
      },
      "outputs": [
        {
          "output_type": "stream",
          "name": "stdout",
          "text": [
            "hello world\n"
          ]
        }
      ],
      "source": [
        "print(\"hello world\")"
      ]
    },
    {
      "cell_type": "code",
      "source": [
        "print(\"ankita sagar\")"
      ],
      "metadata": {
        "colab": {
          "base_uri": "https://localhost:8080/"
        },
        "id": "KCHNrhsTr3s6",
        "outputId": "b0c0516b-3208-4a7e-953c-0361cb507610"
      },
      "execution_count": 1,
      "outputs": [
        {
          "output_type": "stream",
          "name": "stdout",
          "text": [
            "ankita sagar\n"
          ]
        }
      ]
    },
    {
      "cell_type": "code",
      "source": [
        "print(\"Ankita\")"
      ],
      "metadata": {
        "id": "RwADXLYNv09v",
        "outputId": "5643d3a3-933a-4bee-8687-bdc9de73b17b",
        "colab": {
          "base_uri": "https://localhost:8080/"
        }
      },
      "execution_count": 4,
      "outputs": [
        {
          "output_type": "stream",
          "name": "stdout",
          "text": [
            "Ankita\n"
          ]
        }
      ]
    },
    {
      "cell_type": "code",
      "source": [
        "#Day3 - Type function\n",
        "#creating a simple list\n",
        "\n",
        "l=[1,2.2,3,[3,4,5],'ntt']\n",
        "print(l)\n",
        "print(type(l))\n",
        "\n",
        "a=10\n",
        "print(type(a))"
      ],
      "metadata": {
        "id": "R6n-VfhqSumX",
        "outputId": "c5aa8c3f-654e-4874-99af-b7599778dc89",
        "colab": {
          "base_uri": "https://localhost:8080/"
        }
      },
      "execution_count": 2,
      "outputs": [
        {
          "output_type": "stream",
          "name": "stdout",
          "text": [
            "[1, 2.2, 3, [3, 4, 5], 'ntt']\n",
            "<class 'list'>\n",
            "<class 'int'>\n"
          ]
        }
      ]
    }
  ]
}