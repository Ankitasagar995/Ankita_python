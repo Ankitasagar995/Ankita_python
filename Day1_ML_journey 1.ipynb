{
  "nbformat": 4,
  "nbformat_minor": 0,
  "metadata": {
    "colab": {
      "provenance": []
    },
    "kernelspec": {
      "name": "python3",
      "display_name": "Python 3"
    },
    "language_info": {
      "name": "python"
    }
  },
  "cells": [
    {
      "cell_type": "code",
      "execution_count": null,
      "metadata": {
        "colab": {
          "base_uri": "https://localhost:8080/"
        },
        "id": "HpmbKqI7jltH",
        "outputId": "0ec1bf68-5f68-4ec7-f746-ea081ec8cab5"
      },
      "outputs": [
        {
          "output_type": "stream",
          "name": "stdout",
          "text": [
            "hello world\n"
          ]
        }
      ],
      "source": [
        "print(\"hello world\")"
      ]
    },
    {
      "cell_type": "code",
      "source": [
        "print(\"ankita sagar\")"
      ],
      "metadata": {
        "colab": {
          "base_uri": "https://localhost:8080/"
        },
        "id": "KCHNrhsTr3s6",
        "outputId": "b0c0516b-3208-4a7e-953c-0361cb507610"
      },
      "execution_count": null,
      "outputs": [
        {
          "output_type": "stream",
          "name": "stdout",
          "text": [
            "ankita sagar\n"
          ]
        }
      ]
    },
    {
      "cell_type": "code",
      "source": [
        "print(\"Ankita\")"
      ],
      "metadata": {
        "colab": {
          "base_uri": "https://localhost:8080/"
        },
        "id": "RwADXLYNv09v",
        "outputId": "5643d3a3-933a-4bee-8687-bdc9de73b17b"
      },
      "execution_count": null,
      "outputs": [
        {
          "output_type": "stream",
          "name": "stdout",
          "text": [
            "Ankita\n"
          ]
        }
      ]
    },
    {
      "cell_type": "code",
      "source": [
        "#Day3 - Type function\n",
        "#creating a simple list\n",
        "\n",
        "l=[1,2.2,3,[3,4,5],'ntt']\n",
        "print(l)\n",
        "print(type(l))\n",
        "\n"
      ],
      "metadata": {
        "colab": {
          "base_uri": "https://localhost:8080/"
        },
        "id": "R6n-VfhqSumX",
        "outputId": "5395bd04-cb29-4138-f01d-f7944bad1fed"
      },
      "execution_count": null,
      "outputs": [
        {
          "output_type": "stream",
          "name": "stdout",
          "text": [
            "[1, 2.2, 3, [3, 4, 5], 'ntt']\n",
            "<class 'list'>\n"
          ]
        }
      ]
    },
    {
      "cell_type": "code",
      "source": [
        "#type functin returns data type\n",
        "a=10\n",
        "print(type(a))\n"
      ],
      "metadata": {
        "colab": {
          "base_uri": "https://localhost:8080/"
        },
        "id": "2hN-OYemT-GB",
        "outputId": "4ddbcbd8-9f2f-4280-91f1-5d6e74510ca1"
      },
      "execution_count": null,
      "outputs": [
        {
          "output_type": "stream",
          "name": "stdout",
          "text": [
            "<class 'int'>\n"
          ]
        }
      ]
    },
    {
      "cell_type": "code",
      "source": [
        "#isinstance\n",
        "a=10\n",
        "b=10.2\n",
        "print(isinstance(a,int))\n",
        "print(isinstance(b,int))\n"
      ],
      "metadata": {
        "colab": {
          "base_uri": "https://localhost:8080/"
        },
        "id": "vZl-BlwrWw8O",
        "outputId": "d15b0c57-d235-4941-f480-2b6daaadab8d"
      },
      "execution_count": null,
      "outputs": [
        {
          "output_type": "stream",
          "name": "stdout",
          "text": [
            "True\n",
            "False\n"
          ]
        }
      ]
    },
    {
      "cell_type": "code",
      "source": [
        "# variable annotation\n",
        "\n",
        "aa: int = '10.99999'\n",
        "print(aa)\n",
        "\n",
        "print(__annotations__['aa'])\n",
        "print(type(aa))"
      ],
      "metadata": {
        "colab": {
          "base_uri": "https://localhost:8080/"
        },
        "id": "kr_TVZ75Yz77",
        "outputId": "c09183c6-4815-4d6b-d7a3-070b791f6fdb"
      },
      "execution_count": null,
      "outputs": [
        {
          "output_type": "stream",
          "name": "stdout",
          "text": [
            "10.99999\n",
            "<class 'int'>\n",
            "<class 'str'>\n"
          ]
        }
      ]
    },
    {
      "cell_type": "code",
      "source": [
        "#strip method"
      ],
      "metadata": {
        "id": "Gvrg_2yMTbih"
      },
      "execution_count": null,
      "outputs": []
    },
    {
      "cell_type": "code",
      "source": [
        "#mini project\n",
        "def create_student_database():\n",
        "  # cretae empty dict\n",
        "  database ={}\n",
        "  return database\n",
        "\n",
        "def add_student(database):\n",
        "    #add a new student to databse\n",
        "    usn = input(\"enter the USN no:\")\n",
        "    name = input(\"enter the name:\")\n",
        "    major = input(\"enter the student dept:\")\n",
        "    database[usn]={\"name\":name,\"major\":major} #key value pair added to dictionary\n",
        "    print(\"student addedd succeessfully\")\n",
        "\n",
        "def find_student_info(database):\n",
        "  #retrieves information of the student\n",
        "  student_id=input(\"enter the usn no\")\n",
        "  student_info = database.get(student_id)\n",
        "  if student_info:\n",
        "    print(database.get(student_id)) #print student info\n",
        "  else:\n",
        "    print(\"enter correct student id\")\n",
        "\n",
        "def display_database(database):\n",
        "#print contents of databse)\n",
        "  if database:\n",
        "    print(\"student databse\")\n",
        "    print (database)\n",
        "  else:\n",
        "    print(\"database is empty\")\n",
        "\n",
        "\n",
        "#main program loop\n",
        "\n",
        "student_database=create_student_database()\n",
        "while True:\n",
        "  print(\"options\")\n",
        "  print(\"1. add student\")\n",
        "  print(\"2. Find student\")\n",
        "  print(\"3. Display database\")\n",
        "  print(\"4. Exit\")\n",
        "\n",
        "  choice = input(\"enter your choice\")\n",
        "\n",
        "  if choice == '1':\n",
        "    add_student(student_database)\n",
        "\n",
        "  elif choice == '2':\n",
        "    find_student_info(student_database)\n",
        "\n",
        "  elif choice == '3':\n",
        "    display_database(student_database)\n",
        "\n",
        "  elif choice == '4':\n",
        "    break\n",
        "\n",
        "  else:\n",
        "    print(\"its an invalid input,try again\")\n",
        "    print(\"invalid choice\")"
      ],
      "metadata": {
        "colab": {
          "base_uri": "https://localhost:8080/"
        },
        "id": "6cCtmCHQRTw_",
        "outputId": "d430206c-b24d-4bf5-d06e-524376c43505"
      },
      "execution_count": 10,
      "outputs": [
        {
          "name": "stdout",
          "output_type": "stream",
          "text": [
            "options\n",
            "1. add student\n",
            "2. Find student\n",
            "3. Display database\n",
            "4. Exit\n",
            "enter your choice3\n",
            "database is empty\n",
            "options\n",
            "1. add student\n",
            "2. Find student\n",
            "3. Display database\n",
            "4. Exit\n",
            "enter your choice1\n",
            "enter the USN no:100\n",
            "enter the name:ram\n",
            "enter the student dept:cse\n",
            "student addedd succeessfully\n",
            "options\n",
            "1. add student\n",
            "2. Find student\n",
            "3. Display database\n",
            "4. Exit\n",
            "enter your choice2\n",
            "enter the usn norani\n",
            "enter correct student id\n",
            "options\n",
            "1. add student\n",
            "2. Find student\n",
            "3. Display database\n",
            "4. Exit\n",
            "enter your choice1\n",
            "enter the USN no:101\n",
            "enter the name:rani\n",
            "enter the student dept:ece\n",
            "student addedd succeessfully\n",
            "options\n",
            "1. add student\n",
            "2. Find student\n",
            "3. Display database\n",
            "4. Exit\n",
            "enter your choice3\n",
            "student databse\n",
            "{'100': {'name': 'ram', 'major': 'cse'}, '101': {'name': 'rani', 'major': 'ece'}}\n",
            "options\n",
            "1. add student\n",
            "2. Find student\n",
            "3. Display database\n",
            "4. Exit\n",
            "enter your choice4\n"
          ]
        }
      ]
    }
  ]
}