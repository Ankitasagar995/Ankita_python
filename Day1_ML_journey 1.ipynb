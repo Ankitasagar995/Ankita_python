{
  "nbformat": 4,
  "nbformat_minor": 0,
  "metadata": {
    "colab": {
      "provenance": []
    },
    "kernelspec": {
      "name": "python3",
      "display_name": "Python 3"
    },
    "language_info": {
      "name": "python"
    }
  },
  "cells": [
    {
      "cell_type": "code",
      "execution_count": null,
      "metadata": {
        "colab": {
          "base_uri": "https://localhost:8080/"
        },
        "id": "HpmbKqI7jltH",
        "outputId": "0ec1bf68-5f68-4ec7-f746-ea081ec8cab5"
      },
      "outputs": [
        {
          "output_type": "stream",
          "name": "stdout",
          "text": [
            "hello world\n"
          ]
        }
      ],
      "source": [
        "print(\"hello world\")"
      ]
    },
    {
      "cell_type": "code",
      "source": [
        "print(\"ankita sagar\")"
      ],
      "metadata": {
        "colab": {
          "base_uri": "https://localhost:8080/"
        },
        "id": "KCHNrhsTr3s6",
        "outputId": "b0c0516b-3208-4a7e-953c-0361cb507610"
      },
      "execution_count": null,
      "outputs": [
        {
          "output_type": "stream",
          "name": "stdout",
          "text": [
            "ankita sagar\n"
          ]
        }
      ]
    },
    {
      "cell_type": "code",
      "source": [
        "print(\"Ankita\")"
      ],
      "metadata": {
        "colab": {
          "base_uri": "https://localhost:8080/"
        },
        "id": "RwADXLYNv09v",
        "outputId": "5643d3a3-933a-4bee-8687-bdc9de73b17b"
      },
      "execution_count": null,
      "outputs": [
        {
          "output_type": "stream",
          "name": "stdout",
          "text": [
            "Ankita\n"
          ]
        }
      ]
    },
    {
      "cell_type": "code",
      "source": [
        "#day2 the following code snippets shows memory management in python\n",
        "a=100\n",
        "print(id(a))\n",
        "\n",
        "b=100\n",
        "print(id(b))\n",
        "\n",
        "c=100\n",
        "print(id(c))"
      ],
      "metadata": {
        "id": "XHnQrnS2E9wg",
        "outputId": "9b3b07ae-e218-4d0c-9b56-bc0b34d8d5cb",
        "colab": {
          "base_uri": "https://localhost:8080/"
        }
      },
      "execution_count": null,
      "outputs": [
        {
          "output_type": "stream",
          "name": "stdout",
          "text": [
            "10754024\n",
            "10754024\n",
            "10754024\n"
          ]
        }
      ]
    },
    {
      "cell_type": "code",
      "source": [
        "a=500\n",
        "print(id(a))"
      ],
      "metadata": {
        "id": "hHa1S0k6Fj7H",
        "outputId": "a39f533e-e0f7-4282-8f18-7b54d16abdfb",
        "colab": {
          "base_uri": "https://localhost:8080/"
        }
      },
      "execution_count": null,
      "outputs": [
        {
          "output_type": "stream",
          "name": "stdout",
          "text": [
            "139767337430512\n"
          ]
        }
      ]
    },
    {
      "cell_type": "code",
      "source": [
        "b=a\n",
        "print(id(b))"
      ],
      "metadata": {
        "id": "haTe1WsEFyPF",
        "outputId": "9c92900a-45a1-47da-92c2-9717ad4e4f5e",
        "colab": {
          "base_uri": "https://localhost:8080/"
        }
      },
      "execution_count": null,
      "outputs": [
        {
          "output_type": "stream",
          "name": "stdout",
          "text": [
            "139767337430512\n"
          ]
        }
      ]
    },
    {
      "cell_type": "code",
      "source": [
        "a=10\n",
        "b=20\n",
        "c=30\n",
        "print(a,b,c)\n",
        "\n",
        "a,b,c = 10, 20 ,30 #variable assignment\n",
        "print(a,b,c)"
      ],
      "metadata": {
        "id": "Iv_Dgc0fGCcj",
        "outputId": "48669223-4611-4fad-e1e4-0a84e82fabf5",
        "colab": {
          "base_uri": "https://localhost:8080/"
        }
      },
      "execution_count": null,
      "outputs": [
        {
          "output_type": "stream",
          "name": "stdout",
          "text": [
            "10 20 30\n",
            "10 20 30\n"
          ]
        }
      ]
    },
    {
      "cell_type": "code",
      "source": [
        "a=10 #variable assignment\n",
        "b=10\n",
        "c=10\n",
        "print(a,b,c)\n",
        "\n",
        "a=b=c=10\n",
        "print(a,b,c)"
      ],
      "metadata": {
        "id": "0Sl33lkLGc7w",
        "outputId": "5f4d2e4a-e18f-4cf0-8d5c-3f7b3d5913e9",
        "colab": {
          "base_uri": "https://localhost:8080/"
        }
      },
      "execution_count": null,
      "outputs": [
        {
          "output_type": "stream",
          "name": "stdout",
          "text": [
            "10 10 10\n",
            "10 10 10\n"
          ]
        }
      ]
    },
    {
      "cell_type": "code",
      "source": [
        "import keyword\n",
        "print(keyword.kwlist) #it lists all the keywords in python"
      ],
      "metadata": {
        "id": "ZeW1m7KjHC8U",
        "outputId": "68597aaa-4867-495e-d6c0-ed7f96b70c8b",
        "colab": {
          "base_uri": "https://localhost:8080/"
        }
      },
      "execution_count": null,
      "outputs": [
        {
          "output_type": "stream",
          "name": "stdout",
          "text": [
            "['False', 'None', 'True', 'and', 'as', 'assert', 'async', 'await', 'break', 'class', 'continue', 'def', 'del', 'elif', 'else', 'except', 'finally', 'for', 'from', 'global', 'if', 'import', 'in', 'is', 'lambda', 'nonlocal', 'not', 'or', 'pass', 'raise', 'return', 'try', 'while', 'with', 'yield']\n"
          ]
        }
      ]
    },
    {
      "cell_type": "code",
      "source": [
        "import keyword as kw\n",
        "print(kw.kwlist)"
      ],
      "metadata": {
        "id": "3d-p1TttJMvh",
        "outputId": "11e90aa1-8105-4429-b76d-d17da7def3cc",
        "colab": {
          "base_uri": "https://localhost:8080/"
        }
      },
      "execution_count": null,
      "outputs": [
        {
          "output_type": "stream",
          "name": "stdout",
          "text": [
            "['False', 'None', 'True', 'and', 'as', 'assert', 'async', 'await', 'break', 'class', 'continue', 'def', 'del', 'elif', 'else', 'except', 'finally', 'for', 'from', 'global', 'if', 'import', 'in', 'is', 'lambda', 'nonlocal', 'not', 'or', 'pass', 'raise', 'return', 'try', 'while', 'with', 'yield']\n"
          ]
        }
      ]
    },
    {
      "cell_type": "code",
      "source": [
        "False=10 # keywords cannot be used as a variable name\n",
        "print(False)"
      ],
      "metadata": {
        "id": "VAxc1JSjHZry",
        "outputId": "733cfc17-22c6-4306-bed4-e63dadec3bdc",
        "colab": {
          "base_uri": "https://localhost:8080/",
          "height": 106
        }
      },
      "execution_count": null,
      "outputs": [
        {
          "output_type": "error",
          "ename": "SyntaxError",
          "evalue": "cannot assign to False (<ipython-input-9-a9b307c5edad>, line 1)",
          "traceback": [
            "\u001b[0;36m  File \u001b[0;32m\"<ipython-input-9-a9b307c5edad>\"\u001b[0;36m, line \u001b[0;32m1\u001b[0m\n\u001b[0;31m    False=10\u001b[0m\n\u001b[0m    ^\u001b[0m\n\u001b[0;31mSyntaxError\u001b[0m\u001b[0;31m:\u001b[0m cannot assign to False\n"
          ]
        }
      ]
    },
    {
      "cell_type": "code",
      "source": [
        "#multiline comment\n",
        "\"\"\" dhjfkggggs\n",
        "sfsdffffffff\n",
        "fffffffffffffffff\n",
        "yyyyyyyyyyyyyy \"\"\"\n",
        "print(\"Hi\")"
      ],
      "metadata": {
        "id": "MqkII9y_IqW2",
        "outputId": "a75a722b-fb50-413d-aa35-5073d0392c53",
        "colab": {
          "base_uri": "https://localhost:8080/"
        }
      },
      "execution_count": null,
      "outputs": [
        {
          "output_type": "stream",
          "name": "stdout",
          "text": [
            "Hi\n"
          ]
        }
      ]
    },
    {
      "cell_type": "code",
      "source": [
        "#python string\n",
        "a=\"ntt\"\n",
        "print(a)\n",
        "b= 'data'\n",
        "print (a,b)"
      ],
      "metadata": {
        "id": "ulz8SijgL8Ze",
        "outputId": "73797829-9c9e-4ed2-d337-a0fc6941406e",
        "colab": {
          "base_uri": "https://localhost:8080/"
        }
      },
      "execution_count": null,
      "outputs": [
        {
          "output_type": "stream",
          "name": "stdout",
          "text": [
            "ntt\n",
            "ntt data\n"
          ]
        }
      ]
    },
    {
      "cell_type": "code",
      "source": [
        "#multiline string\n",
        "st= \"\"\" ghgjgjfkd\n",
        "fjgjhkkljj\n",
        "hhjgkjhkh\"\"\"\n",
        "\n",
        "print(st)"
      ],
      "metadata": {
        "id": "ufrKFjVNMIWz",
        "outputId": "0f4d1d1e-f8be-4ea0-dfaa-34e2c253a6df",
        "colab": {
          "base_uri": "https://localhost:8080/"
        }
      },
      "execution_count": null,
      "outputs": [
        {
          "output_type": "stream",
          "name": "stdout",
          "text": [
            " ghgjgjfkd\n",
            "fjgjhkkljj\n",
            "hhjgkjhkh\n"
          ]
        }
      ]
    },
    {
      "cell_type": "code",
      "source": [
        "#Day3 - Type function\n",
        "#creating a simple list\n",
        "\n",
        "l=[1,2.2,3,[3,4,5],'ntt',3+4j]\n",
        "print(l)\n",
        "print(type(l))\n",
        "\n"
      ],
      "metadata": {
        "colab": {
          "base_uri": "https://localhost:8080/"
        },
        "id": "R6n-VfhqSumX",
        "outputId": "74d9b470-a779-402f-817d-8622ce1a4d2a"
      },
      "execution_count": null,
      "outputs": [
        {
          "output_type": "stream",
          "name": "stdout",
          "text": [
            "[1, 2.2, 3, [3, 4, 5], 'ntt', (3+4j)]\n",
            "<class 'list'>\n"
          ]
        }
      ]
    },
    {
      "cell_type": "code",
      "source": [
        "#type functin returns data type\n",
        "a=10\n",
        "print(type(a))\n",
        "\n",
        "a=10.2\n",
        "print(type(a))\n",
        "\n",
        "a=\"ntt\"\n",
        "print(type(a))\n",
        "\n",
        "a=3+4j\n",
        "print(type(a))\n"
      ],
      "metadata": {
        "colab": {
          "base_uri": "https://localhost:8080/"
        },
        "id": "2hN-OYemT-GB",
        "outputId": "56d0be7e-a2a4-4845-c63b-53e50a51527e"
      },
      "execution_count": null,
      "outputs": [
        {
          "output_type": "stream",
          "name": "stdout",
          "text": [
            "<class 'int'>\n",
            "<class 'float'>\n",
            "<class 'str'>\n",
            "<class 'complex'>\n"
          ]
        }
      ]
    },
    {
      "cell_type": "code",
      "source": [
        "#isinstance\n",
        "a=10\n",
        "b=10.2\n",
        "c=3+4j\n",
        "d='gtth'\n",
        "print(isinstance(a,int))\n",
        "print(isinstance(b,int))\n",
        "print(isinstance(c,complex))\n",
        "print(isinstance(d,str))\n"
      ],
      "metadata": {
        "colab": {
          "base_uri": "https://localhost:8080/"
        },
        "id": "vZl-BlwrWw8O",
        "outputId": "92e4f78c-85b6-4f05-c949-57688d9dcff4"
      },
      "execution_count": null,
      "outputs": [
        {
          "output_type": "stream",
          "name": "stdout",
          "text": [
            "True\n",
            "False\n",
            "True\n",
            "True\n"
          ]
        }
      ]
    },
    {
      "cell_type": "code",
      "source": [
        "# variable annotation\n",
        "\n",
        "aa: int = '10.99999' #if we change the the variable from int to str ,still it allows\n",
        "print(aa)\n",
        "\n",
        "print(__annotations__['aa']) #but the annotation will remain int only\n",
        "print(type(aa))"
      ],
      "metadata": {
        "colab": {
          "base_uri": "https://localhost:8080/"
        },
        "id": "kr_TVZ75Yz77",
        "outputId": "c09183c6-4815-4d6b-d7a3-070b791f6fdb"
      },
      "execution_count": null,
      "outputs": [
        {
          "output_type": "stream",
          "name": "stdout",
          "text": [
            "10.99999\n",
            "<class 'int'>\n",
            "<class 'str'>\n"
          ]
        }
      ]
    },
    {
      "cell_type": "code",
      "source": [
        "aaa: str = 3.4 #annotations doesn't force to use only the str type, we can change the type but annotation will remain str\n",
        "print(aaa)\n",
        "print(type(aaa))\n",
        "\n",
        "print(__annotations__['aaa'])"
      ],
      "metadata": {
        "id": "QpxAlQauf0cM",
        "outputId": "22dd750e-1e0b-4699-bfb4-0e199c325498",
        "colab": {
          "base_uri": "https://localhost:8080/"
        }
      },
      "execution_count": null,
      "outputs": [
        {
          "output_type": "stream",
          "name": "stdout",
          "text": [
            "3.4\n",
            "<class 'float'>\n",
            "<class 'str'>\n"
          ]
        }
      ]
    },
    {
      "cell_type": "code",
      "source": [
        "#tuple- tuple is immutable cannot be modified\n",
        "d=(a,4.5,\"hty\",'poo',(9,\"j\",\"u\",2,3,7.8,6+5j))\n",
        "\n",
        "print(d)\n",
        "print(type(d))"
      ],
      "metadata": {
        "id": "Ag_zFl2Ekwqb",
        "outputId": "5480fa95-a857-4997-9a87-4ad85efd48d3",
        "colab": {
          "base_uri": "https://localhost:8080/"
        }
      },
      "execution_count": null,
      "outputs": [
        {
          "output_type": "stream",
          "name": "stdout",
          "text": [
            "(10, 4.5, 'hty', 'poo', (9, 'j', 'u', 2, 3, 7.8, (6+5j)))\n",
            "<class 'tuple'>\n"
          ]
        }
      ]
    },
    {
      "cell_type": "code",
      "source": [
        "#dictory\n",
        "dj={a:10,b:3.4,c:[1,2.4,5.5,6,'h',4+6j]}\n",
        "print(dj)\n",
        "print(d[c])\n",
        "dj.pop\n",
        "print (dj)"
      ],
      "metadata": {
        "id": "-Skmje5OoD23",
        "outputId": "2ff13207-c45c-4f2e-af34-d615bc7ae2b9",
        "colab": {
          "base_uri": "https://localhost:8080/"
        }
      },
      "execution_count": null,
      "outputs": [
        {
          "output_type": "stream",
          "name": "stdout",
          "text": [
            "{10: 10, 10.2: 3.4, (3+4j): [1, 2.4, 5.5, 6, 'h', (4+6j)]}\n",
            "[1, 2.4, 5.5, 6, 'h', (4+6j)]\n",
            "{10: 10, 10.2: 3.4, (3+4j): [1, 2.4, 5.5, 6, 'h', (4+6j)]}\n"
          ]
        }
      ]
    },
    {
      "cell_type": "code",
      "source": [
        "djk={a:10,b:3.4,c:[1,2.4,5.5,6,'h',4+6j]}\n",
        "print(djk)\n",
        "print(djk[c])\n",
        "djk.pop\n",
        "print (djk)\n",
        "type(djk)"
      ],
      "metadata": {
        "id": "GWItcpiKpEy3",
        "outputId": "0590846d-2339-48a8-bf3b-54c057457db2",
        "colab": {
          "base_uri": "https://localhost:8080/"
        }
      },
      "execution_count": null,
      "outputs": [
        {
          "output_type": "stream",
          "name": "stdout",
          "text": [
            "{10: 10, 10.2: 3.4, (3+4j): [1, 2.4, 5.5, 6, 'h', (4+6j)]}\n",
            "[1, 2.4, 5.5, 6, 'h', (4+6j)]\n",
            "{10: 10, 10.2: 3.4, (3+4j): [1, 2.4, 5.5, 6, 'h', (4+6j)]}\n"
          ]
        },
        {
          "output_type": "execute_result",
          "data": {
            "text/plain": [
              "dict"
            ]
          },
          "metadata": {},
          "execution_count": 25
        }
      ]
    },
    {
      "cell_type": "code",
      "source": [
        "name=\"code yug\"\n",
        "print(name[0])\n",
        "print(name[2])"
      ],
      "metadata": {
        "id": "w63mUvKAsydk",
        "outputId": "28207a6b-2755-4cb5-e6ef-a02387605ee1",
        "colab": {
          "base_uri": "https://localhost:8080/"
        }
      },
      "execution_count": null,
      "outputs": [
        {
          "output_type": "stream",
          "name": "stdout",
          "text": [
            "c\n",
            "d\n"
          ]
        }
      ]
    },
    {
      "cell_type": "code",
      "source": [
        "s=\"bangalore\" #slicing using negative indexing\n",
        "print(s[-9:7:1])\n",
        "print(s[2:3])\n",
        "print(s[0::3])\n",
        "print(s[-6:-11:])"
      ],
      "metadata": {
        "id": "5qHhHgZBFBYs",
        "outputId": "30a02683-a217-4b57-fc0a-a3fdfc5fb99f",
        "colab": {
          "base_uri": "https://localhost:8080/"
        }
      },
      "execution_count": null,
      "outputs": [
        {
          "output_type": "stream",
          "name": "stdout",
          "text": [
            "bangalo\n",
            "n\n",
            "bgo\n",
            "\n"
          ]
        }
      ]
    },
    {
      "cell_type": "code",
      "source": [
        "s=\"hello, world!\"\n",
        "print(s[-3:])\n",
        "print(s[-5:2:-2])\n",
        "print(s[::2][::-1])"
      ],
      "metadata": {
        "id": "PKLFVgRjHBvG",
        "outputId": "ac3979e6-04bd-4a64-fcc1-299da4cf028a",
        "colab": {
          "base_uri": "https://localhost:8080/"
        }
      },
      "execution_count": null,
      "outputs": [
        {
          "output_type": "stream",
          "name": "stdout",
          "text": [
            "ld!\n",
            "o o\n",
            "!lo olh\n"
          ]
        }
      ]
    },
    {
      "cell_type": "code",
      "source": [
        "s=\"python is fun\"\n",
        "print(s[-3:])\n",
        "print(s[-5:2:-2])\n",
        "print(s[::2])\n",
        "print(s[::2][::-1])"
      ],
      "metadata": {
        "id": "yX-HN7INI-DY",
        "outputId": "303588b9-7086-49e2-902b-5677b8fcd7ca",
        "colab": {
          "base_uri": "https://localhost:8080/"
        }
      },
      "execution_count": null,
      "outputs": [
        {
          "output_type": "stream",
          "name": "stdout",
          "text": [
            "fun\n",
            "s o\n",
            "pto sfn\n",
            "nfs otp\n"
          ]
        }
      ]
    },
    {
      "cell_type": "code",
      "source": [
        "string=\"programming\" #length function in string slicing\n",
        "print(string[3:len(string)-4])"
      ],
      "metadata": {
        "id": "3lC9SHFrJhSC",
        "outputId": "036b39c3-1fb4-417f-8744-be0316cb6f9f",
        "colab": {
          "base_uri": "https://localhost:8080/"
        }
      },
      "execution_count": null,
      "outputs": [
        {
          "output_type": "stream",
          "name": "stdout",
          "text": [
            "gram\n"
          ]
        }
      ]
    },
    {
      "cell_type": "code",
      "source": [
        "#simple if statement\n",
        "if 10>5:\n",
        "  print(\"true\")\n",
        "  print(\"end of if\")\n",
        "print(\"not inside if\")\n",
        "print(\"end of program\")"
      ],
      "metadata": {
        "id": "SkM49MjjK0c5",
        "outputId": "5db1f4bb-738d-4cdd-a62b-9e1aca2aa476",
        "colab": {
          "base_uri": "https://localhost:8080/"
        }
      },
      "execution_count": null,
      "outputs": [
        {
          "output_type": "stream",
          "name": "stdout",
          "text": [
            "true\n",
            "end of if\n",
            "not inside if\n",
            "end of program\n"
          ]
        }
      ]
    },
    {
      "cell_type": "code",
      "source": [
        "#if else statement\n",
        "if 10>11:\n",
        "  print(\"true\")\n",
        "  print(\"end of if\")\n",
        "else:\n",
        "  print(\"not inside if\")\n",
        "  print(\"end of program\")"
      ],
      "metadata": {
        "id": "Dvcoi_MNL0CR",
        "outputId": "a29e6696-f0c6-443f-a76c-127e99da8fab",
        "colab": {
          "base_uri": "https://localhost:8080/"
        }
      },
      "execution_count": null,
      "outputs": [
        {
          "output_type": "stream",
          "name": "stdout",
          "text": [
            "not inside if\n",
            "end of program\n"
          ]
        }
      ]
    },
    {
      "cell_type": "code",
      "source": [
        "#input function\n",
        "a=input(\"enter a value\")\n",
        "print(a)\n",
        "print(type(a))\n",
        "\n",
        "b=float(input(\"enter a value\"))\n",
        "print(b)\n",
        "print(type(b))"
      ],
      "metadata": {
        "id": "z-FmySOBMI38",
        "outputId": "8a55195a-e50a-4dcd-b8a9-a82022273d87",
        "colab": {
          "base_uri": "https://localhost:8080/"
        }
      },
      "execution_count": null,
      "outputs": [
        {
          "output_type": "stream",
          "name": "stdout",
          "text": [
            "enter a valuea\n",
            "a\n",
            "<class 'str'>\n",
            "enter a value5.6\n",
            "5.6\n",
            "<class 'float'>\n"
          ]
        }
      ]
    },
    {
      "cell_type": "code",
      "source": [
        "#if else statement\n",
        "a=int(input(\"enter a value\"))\n",
        "b=int(input(\"enter a value\"))\n",
        "if a>b:\n",
        "  print(\"true\")\n",
        "  print(\"end of if\")\n",
        "else:\n",
        "  print(\"not inside if\")\n",
        "  print(\"end of program\")\n"
      ],
      "metadata": {
        "id": "9TrO-_l2NQBn",
        "outputId": "7ceaeba6-a114-4536-ee88-5d8f55e7e2a3",
        "colab": {
          "base_uri": "https://localhost:8080/"
        }
      },
      "execution_count": null,
      "outputs": [
        {
          "output_type": "stream",
          "name": "stdout",
          "text": [
            "enter a value3\n",
            "enter a value4\n",
            "not inside if\n",
            "end of program\n"
          ]
        }
      ]
    },
    {
      "cell_type": "code",
      "source": [
        "#if else ladder\n",
        "s=input(\"enter a color\")\n",
        "if s==\"red\":\n",
        "  print(\"stop\")\n",
        "elif s==\"yellow\":\n",
        "  print(\"ready\")\n",
        "elif s==\"green\":\n",
        "  print(\"go\")\n",
        "else:\n",
        "  print(\"invalid color\")"
      ],
      "metadata": {
        "id": "n1XWff7XPa70",
        "outputId": "c4675c8f-13dd-410a-c77d-7f6f03e9c738",
        "colab": {
          "base_uri": "https://localhost:8080/"
        }
      },
      "execution_count": null,
      "outputs": [
        {
          "output_type": "stream",
          "name": "stdout",
          "text": [
            "enter a colorpink\n",
            "invalid color\n"
          ]
        }
      ]
    },
    {
      "cell_type": "code",
      "source": [
        "#palindrome code\n",
        "s=input(\"enter a string\")\n",
        "s=s.lower() #converts into lower case\n",
        "print(s)\n",
        "revs=s[::-1]\n",
        "if s==revs:\n",
        "  print(\"palindrome\")\n",
        "else:\n",
        "  print(\"not palindrome\")"
      ],
      "metadata": {
        "id": "ZZEyzQ4cPwRE",
        "outputId": "59a4b3d2-a6b5-4b40-d4c1-f69662e0bb16",
        "colab": {
          "base_uri": "https://localhost:8080/"
        }
      },
      "execution_count": null,
      "outputs": [
        {
          "output_type": "stream",
          "name": "stdout",
          "text": [
            "enter a stringmalayalaM\n",
            "malayalam\n",
            "palindrome\n"
          ]
        }
      ]
    },
    {
      "cell_type": "code",
      "source": [
        "#while loop\n",
        "i=10\n",
        "while(i<15):\n",
        "  print(i)\n",
        "  i=i+1\n",
        "\n",
        "print(\"end of while\")\n"
      ],
      "metadata": {
        "id": "IVJNY0WXCddv",
        "outputId": "c9967ad9-fb79-4a87-8cba-163fa8169554",
        "colab": {
          "base_uri": "https://localhost:8080/"
        }
      },
      "execution_count": null,
      "outputs": [
        {
          "output_type": "stream",
          "name": "stdout",
          "text": [
            "10\n",
            "11\n",
            "12\n",
            "13\n",
            "14\n",
            "end of while\n"
          ]
        }
      ]
    },
    {
      "cell_type": "code",
      "source": [
        "#while multiplication table\n",
        "a=int(input(\"enter a number\"))\n",
        "b=1\n",
        "while b<=10:\n",
        "  print(a,\"*\",b,\"=\",a*b)\n",
        "  b=b+1\n",
        "\n",
        "print(\"enf of table\")\n"
      ],
      "metadata": {
        "id": "AANugTsNC_nL",
        "outputId": "a8dae6a2-0d7e-4f33-d681-8ca6ba52bb1b",
        "colab": {
          "base_uri": "https://localhost:8080/"
        }
      },
      "execution_count": null,
      "outputs": [
        {
          "output_type": "stream",
          "name": "stdout",
          "text": [
            "enter a number7\n",
            "7 * 1 = 7\n",
            "7 * 2 = 14\n",
            "7 * 3 = 21\n",
            "7 * 4 = 28\n",
            "7 * 5 = 35\n",
            "7 * 6 = 42\n",
            "7 * 7 = 49\n",
            "7 * 8 = 56\n",
            "7 * 9 = 63\n",
            "7 * 10 = 70\n",
            "enf of table\n"
          ]
        }
      ]
    },
    {
      "cell_type": "code",
      "source": [
        "#for loop\n",
        "s=\"john\" #string\n",
        "for i in s:\n",
        "  print(i)\n",
        "  print(type(i))\n",
        "\n",
        "\n",
        "for i in [10,20,30]: #tuple\n",
        "  print(i)\n",
        "  print(type(i))\n",
        "\n",
        "for i in {110,'ntt',31.0}: #set\n",
        "  print(i)\n",
        "  print(type(i))\n"
      ],
      "metadata": {
        "id": "J7oHkcgYEmHf",
        "outputId": "540805c8-f1e8-4ab6-df73-a23890d5f1b6",
        "colab": {
          "base_uri": "https://localhost:8080/"
        }
      },
      "execution_count": null,
      "outputs": [
        {
          "output_type": "stream",
          "name": "stdout",
          "text": [
            "j\n",
            "<class 'str'>\n",
            "o\n",
            "<class 'str'>\n",
            "h\n",
            "<class 'str'>\n",
            "n\n",
            "<class 'str'>\n",
            "10\n",
            "<class 'int'>\n",
            "20\n",
            "<class 'int'>\n",
            "30\n",
            "<class 'int'>\n",
            "ntt\n",
            "<class 'str'>\n",
            "110\n",
            "<class 'int'>\n",
            "31.0\n",
            "<class 'float'>\n"
          ]
        }
      ]
    },
    {
      "cell_type": "code",
      "source": [
        "#Day 5\n",
        "\n",
        "#range function\n",
        "\n",
        "for i in range(0,11,1):\n",
        "  print('i')"
      ],
      "metadata": {
        "id": "Gvrg_2yMTbih",
        "colab": {
          "base_uri": "https://localhost:8080/"
        },
        "outputId": "6600f0d1-1de3-4e31-fd22-e8f38dea0817"
      },
      "execution_count": null,
      "outputs": [
        {
          "output_type": "stream",
          "name": "stdout",
          "text": [
            "i\n",
            "i\n",
            "i\n",
            "i\n",
            "i\n",
            "i\n",
            "i\n",
            "i\n",
            "i\n",
            "i\n",
            "i\n"
          ]
        }
      ]
    },
    {
      "cell_type": "code",
      "source": [
        "#concatenation of string\n",
        "str1=\"ntt\"\n",
        "str2=\"data\"\n",
        "str3=str1+str2\n",
        "print(str3)"
      ],
      "metadata": {
        "colab": {
          "base_uri": "https://localhost:8080/"
        },
        "id": "o3E5V14uLYVh",
        "outputId": "700df640-d577-406a-c469-9ab1334af8c3"
      },
      "execution_count": null,
      "outputs": [
        {
          "output_type": "stream",
          "name": "stdout",
          "text": [
            "nttdata\n"
          ]
        }
      ]
    },
    {
      "cell_type": "code",
      "source": [
        "#multiplication of string\n",
        "str1=\"codeyug\"\n",
        "str2=\"data\"\n",
        "str3=str1*2\n",
        "print(str3)"
      ],
      "metadata": {
        "colab": {
          "base_uri": "https://localhost:8080/"
        },
        "id": "lx5P36mLLpzY",
        "outputId": "1742eb19-93da-49d4-fb3d-afe299dc62eb"
      },
      "execution_count": null,
      "outputs": [
        {
          "output_type": "stream",
          "name": "stdout",
          "text": [
            "codeyugcodeyug\n"
          ]
        }
      ]
    },
    {
      "cell_type": "code",
      "source": [
        "#deletion in string\n",
        "str1=\"ntt data\"\n",
        "str1[3]=\"D\" #characters of string cant be deleted\n",
        "\n",
        "print(str1)"
      ],
      "metadata": {
        "colab": {
          "base_uri": "https://localhost:8080/",
          "height": 211
        },
        "id": "DCUTFQhyL6YC",
        "outputId": "7e1ea04d-5596-4302-c5c6-d41259f7884b"
      },
      "execution_count": null,
      "outputs": [
        {
          "output_type": "error",
          "ename": "TypeError",
          "evalue": "'str' object does not support item assignment",
          "traceback": [
            "\u001b[0;31m---------------------------------------------------------------------------\u001b[0m",
            "\u001b[0;31mTypeError\u001b[0m                                 Traceback (most recent call last)",
            "\u001b[0;32m<ipython-input-51-98b9e2ebb8f8>\u001b[0m in \u001b[0;36m<cell line: 0>\u001b[0;34m()\u001b[0m\n\u001b[1;32m      1\u001b[0m \u001b[0;31m#deletion in string\u001b[0m\u001b[0;34m\u001b[0m\u001b[0;34m\u001b[0m\u001b[0m\n\u001b[1;32m      2\u001b[0m \u001b[0mstr1\u001b[0m\u001b[0;34m=\u001b[0m\u001b[0;34m\"ntt data\"\u001b[0m\u001b[0;34m\u001b[0m\u001b[0;34m\u001b[0m\u001b[0m\n\u001b[0;32m----> 3\u001b[0;31m \u001b[0mstr1\u001b[0m\u001b[0;34m[\u001b[0m\u001b[0;36m3\u001b[0m\u001b[0;34m]\u001b[0m\u001b[0;34m=\u001b[0m\u001b[0;34m\"D\"\u001b[0m\u001b[0;34m\u001b[0m\u001b[0;34m\u001b[0m\u001b[0m\n\u001b[0m\u001b[1;32m      4\u001b[0m \u001b[0;34m\u001b[0m\u001b[0m\n\u001b[1;32m      5\u001b[0m \u001b[0mprint\u001b[0m\u001b[0;34m(\u001b[0m\u001b[0mstr1\u001b[0m\u001b[0;34m)\u001b[0m\u001b[0;34m\u001b[0m\u001b[0;34m\u001b[0m\u001b[0m\n",
            "\u001b[0;31mTypeError\u001b[0m: 'str' object does not support item assignment"
          ]
        }
      ]
    },
    {
      "cell_type": "code",
      "source": [
        "#deletion in string\n",
        "str1=\"ntt data\"\n",
        "print(str1)\n",
        "\n",
        "del str1  #entire string can be deleted but not the string characters\n",
        "print(str1)"
      ],
      "metadata": {
        "colab": {
          "base_uri": "https://localhost:8080/",
          "height": 193
        },
        "id": "AVEX9ZWSMTn4",
        "outputId": "92de3b06-5ea2-42fb-d35d-bf02b1893c4d"
      },
      "execution_count": null,
      "outputs": [
        {
          "output_type": "stream",
          "name": "stdout",
          "text": [
            "ntt data\n"
          ]
        },
        {
          "output_type": "error",
          "ename": "NameError",
          "evalue": "name 'str1' is not defined",
          "traceback": [
            "\u001b[0;31m---------------------------------------------------------------------------\u001b[0m",
            "\u001b[0;31mNameError\u001b[0m                                 Traceback (most recent call last)",
            "\u001b[0;32m<ipython-input-55-094032c5385e>\u001b[0m in \u001b[0;36m<cell line: 0>\u001b[0;34m()\u001b[0m\n\u001b[1;32m      4\u001b[0m \u001b[0;34m\u001b[0m\u001b[0m\n\u001b[1;32m      5\u001b[0m \u001b[0;32mdel\u001b[0m \u001b[0mstr1\u001b[0m  \u001b[0;31m#entire string can be deleted but not the string characters\u001b[0m\u001b[0;34m\u001b[0m\u001b[0;34m\u001b[0m\u001b[0m\n\u001b[0;32m----> 6\u001b[0;31m \u001b[0mprint\u001b[0m\u001b[0;34m(\u001b[0m\u001b[0mstr1\u001b[0m\u001b[0;34m)\u001b[0m\u001b[0;34m\u001b[0m\u001b[0;34m\u001b[0m\u001b[0m\n\u001b[0m",
            "\u001b[0;31mNameError\u001b[0m: name 'str1' is not defined"
          ]
        }
      ]
    },
    {
      "cell_type": "code",
      "source": [
        "#length of string\n",
        "s=input(\"enter a string\")\n",
        "c=0\n",
        "for i in s:\n",
        "  c+=1\n",
        "print(\"length =\",c)\n",
        "\n",
        "print(len(s)) #use len function"
      ],
      "metadata": {
        "id": "qn1C2jeDLO5e"
      },
      "execution_count": null,
      "outputs": []
    },
    {
      "cell_type": "code",
      "source": [
        "#membership operator\n",
        "if 'a' in \"apple\":\n",
        "  print(\"yes\")\n",
        "else:\n",
        "  print(\"no\")\n"
      ],
      "metadata": {
        "colab": {
          "base_uri": "https://localhost:8080/"
        },
        "id": "VJ1Ak0CCqTwD",
        "outputId": "c6927e1c-982e-4b32-c4dc-76665929d5fe"
      },
      "execution_count": null,
      "outputs": [
        {
          "output_type": "stream",
          "name": "stdout",
          "text": [
            "yes\n"
          ]
        }
      ]
    },
    {
      "cell_type": "code",
      "source": [
        "#count method\n",
        "main_string=input(\"enter main straing\")\n",
        "sub_string=input(\"enter sub string\")\n",
        "\n",
        "c=main_string.count(sub_string)\n",
        "print(c)\n",
        "\n",
        "c=main_string.count(sub_string,0,4)\n",
        "print(c)"
      ],
      "metadata": {
        "colab": {
          "base_uri": "https://localhost:8080/"
        },
        "id": "S9bz8es9rY38",
        "outputId": "b8803223-98c4-4e5e-d92d-4873217cc3d0"
      },
      "execution_count": null,
      "outputs": [
        {
          "output_type": "stream",
          "name": "stdout",
          "text": [
            "enter main straingntt\n",
            "enter sub stringn\n",
            "1\n"
          ]
        }
      ]
    },
    {
      "cell_type": "code",
      "source": [
        "#starts with method\n",
        "mob=input (\"enter yur mobile no with country code\")\n",
        "if mob.startswith(\"+91\"):\n",
        "  print(\"india\")\n",
        "elif mob.startswith(\"+1\"):\n",
        "  print(\"USA\")\n"
      ],
      "metadata": {
        "colab": {
          "base_uri": "https://localhost:8080/"
        },
        "id": "SEaavzthtXWk",
        "outputId": "4711d7c7-3f1c-4df9-dc2f-a5c4d4cd8bd2"
      },
      "execution_count": null,
      "outputs": [
        {
          "output_type": "stream",
          "name": "stdout",
          "text": [
            "enter yur mobile no with country code+919066092903\n",
            "india\n"
          ]
        }
      ]
    },
    {
      "cell_type": "code",
      "source": [
        "#endswith\n",
        "url=input(\"enter a url\")\n",
        "if url.endswith(\".edu\"):\n",
        "  print(\"eductational website\")\n",
        "elif url.endswith(\".com\"):\n",
        "  print(\"commercial website\")"
      ],
      "metadata": {
        "colab": {
          "base_uri": "https://localhost:8080/"
        },
        "id": "PeERguEzuE4c",
        "outputId": "1585e6f5-e074-435b-ebf5-db053c448e5d"
      },
      "execution_count": null,
      "outputs": [
        {
          "output_type": "stream",
          "name": "stdout",
          "text": [
            "enter a urlhttps.ankita.com\n",
            "commercial website\n"
          ]
        }
      ]
    },
    {
      "cell_type": "code",
      "source": [
        "#lstrip method\n",
        "url=[\"https://www.myntra.com\",\"https://www.amazon.com\",\"https://www.flipkart.com\"]\n",
        "for i in url:\n",
        "  #i=i.strip(\"https://www.\")\n",
        "  #i=i.lstrip(\"htps:/w.\")\n",
        "  i=i.strip(\"hp\")\n",
        "  print(i)"
      ],
      "metadata": {
        "colab": {
          "base_uri": "https://localhost:8080/"
        },
        "id": "CP9_W8jY9fLZ",
        "outputId": "7eb0b4e5-5503-4235-dbcf-a68c9e8dc9d2"
      },
      "execution_count": null,
      "outputs": [
        {
          "output_type": "stream",
          "name": "stdout",
          "text": [
            "ttps://www.myntra.com\n",
            "ttps://www.amazon.com\n",
            "ttps://www.flipkart.com\n"
          ]
        }
      ]
    },
    {
      "cell_type": "code",
      "source": [
        "\n",
        "#rstrip method\n",
        "url=[\"https://www.myntra.com\",\"https://www.ajio.com\",\"https://www.cricbuzz.com\"]\n",
        "for i in url:\n",
        " # i=i.rstrip(\"htp.cmp\")\n",
        "  i=i.rstrip(\".com\")\n",
        "\n",
        "  print(i)"
      ],
      "metadata": {
        "colab": {
          "base_uri": "https://localhost:8080/"
        },
        "id": "_pnjubXiAbvf",
        "outputId": "91c0c729-9218-4a69-b918-ffbc1ac77cb3"
      },
      "execution_count": null,
      "outputs": [
        {
          "output_type": "stream",
          "name": "stdout",
          "text": [
            "https://www.myntra\n",
            "https://www.aji\n",
            "https://www.cricbuzz\n"
          ]
        }
      ]
    },
    {
      "cell_type": "code",
      "source": [
        "#STRIP METHOD\n",
        "url=[\"https://www.myntra.com\",\"https://www.ajio.com\",\"https://www.cricbuzz.com\",\"https://www.amazon.com\"]\n",
        "for i in url:\n",
        "  i=i.strip(\"htp.cmo\")\n",
        "  print(i)"
      ],
      "metadata": {
        "colab": {
          "base_uri": "https://localhost:8080/"
        },
        "id": "fUcJB983CM_Q",
        "outputId": "3b071a24-779c-4bf4-9874-16ddbd044058"
      },
      "execution_count": null,
      "outputs": [
        {
          "output_type": "stream",
          "name": "stdout",
          "text": [
            "s://www.myntra\n",
            "s://www.aji\n",
            "s://www.cricbuzz\n",
            "s://www.amazon\n"
          ]
        }
      ]
    },
    {
      "cell_type": "code",
      "source": [
        "#ORDer\n",
        "\n",
        "print(ord(\"A\"))\n",
        "print(ord(\"a\"))\n",
        "print(ord(\"B\"))\n",
        "print(ord(\"b\"))"
      ],
      "metadata": {
        "colab": {
          "base_uri": "https://localhost:8080/"
        },
        "id": "pACOh1_Evmb1",
        "outputId": "34469bd7-dd0d-4a78-e173-fdaf67820906"
      },
      "execution_count": null,
      "outputs": [
        {
          "output_type": "stream",
          "name": "stdout",
          "text": [
            "65\n",
            "97\n",
            "66\n",
            "98\n"
          ]
        }
      ]
    },
    {
      "cell_type": "code",
      "source": [
        "s1=\"AAnand\"\n",
        "s2=\"ABbhiit\"\n",
        "\n",
        "if s1>s2:\n",
        "  print(\"s1 is greater\")\n",
        "else:\n",
        "  print(\"s2 is greater\")"
      ],
      "metadata": {
        "colab": {
          "base_uri": "https://localhost:8080/"
        },
        "id": "WqnkL7XeEwFa",
        "outputId": "43505691-2a1d-4794-8e82-0a6d69d7e3d2"
      },
      "execution_count": null,
      "outputs": [
        {
          "output_type": "stream",
          "name": "stdout",
          "text": [
            "s2 is greater\n"
          ]
        }
      ]
    },
    {
      "cell_type": "code",
      "source": [
        "#replace method\n",
        "\n",
        "s1=(\"i live in mumbai,mumbai is a beautiful place\")\n",
        "s1.replace(\"mumbai\",\"Bangalore\",1)"
      ],
      "metadata": {
        "colab": {
          "base_uri": "https://localhost:8080/",
          "height": 35
        },
        "id": "QTP7zAkZGEPq",
        "outputId": "abe56c6b-194f-4ee5-8908-478cd841d587"
      },
      "execution_count": null,
      "outputs": [
        {
          "output_type": "execute_result",
          "data": {
            "text/plain": [
              "'i live in Bangalore,mumbai is a beautiful place'"
            ],
            "application/vnd.google.colaboratory.intrinsic+json": {
              "type": "string"
            }
          },
          "metadata": {},
          "execution_count": 35
        }
      ]
    },
    {
      "cell_type": "code",
      "source": [
        "#find method\n",
        "s1=(\"i live in mumbai,mumbai is a beautiful place\")\n",
        "res=s1.find(\"mumbai\")\n",
        "print(res)\n"
      ],
      "metadata": {
        "colab": {
          "base_uri": "https://localhost:8080/"
        },
        "id": "0gRPTNrzHIm8",
        "outputId": "d7a14724-b8c8-4eb4-d25e-e063d51ad683"
      },
      "execution_count": null,
      "outputs": [
        {
          "output_type": "stream",
          "name": "stdout",
          "text": [
            "10\n"
          ]
        }
      ]
    },
    {
      "cell_type": "code",
      "source": [
        "s1=(\"i live in mumbai,mumbai is a beautiful place\")\n",
        "res=s1.count(\"mumbai\")\n",
        "print(\"mumbi is present \" ,res, \" times in this string\")"
      ],
      "metadata": {
        "colab": {
          "base_uri": "https://localhost:8080/"
        },
        "id": "kZ_8FB3eHqJr",
        "outputId": "43e25728-77cf-4ebc-9ef6-c8651c4fe238"
      },
      "execution_count": null,
      "outputs": [
        {
          "output_type": "stream",
          "name": "stdout",
          "text": [
            "mumbi is present  2  times in this string\n"
          ]
        }
      ]
    },
    {
      "cell_type": "code",
      "source": [
        "#rfind method\n",
        "s1=(\"i live in mumbai,mumbai is a beautiful place\")\n",
        "res=s1.rfind(\"mumbai\")\n",
        "print(res)"
      ],
      "metadata": {
        "colab": {
          "base_uri": "https://localhost:8080/"
        },
        "id": "7IQYoxP6IsDI",
        "outputId": "02aa809c-be54-4677-96c6-b2f9cd972e60"
      },
      "execution_count": null,
      "outputs": [
        {
          "output_type": "stream",
          "name": "stdout",
          "text": [
            "17\n"
          ]
        }
      ]
    },
    {
      "cell_type": "code",
      "source": [
        "#split method\n",
        "s=\"i live in mumbai\"\n",
        "w=\"india,usa,australia\"\n",
        "k=s.split()\n",
        "j=w.split(\",\")\n",
        "l=w.split(\",\",1)\n",
        "m=w.split(i)\n",
        "print(k)\n",
        "print(j)\n",
        "print(l)\n",
        "print(m)"
      ],
      "metadata": {
        "colab": {
          "base_uri": "https://localhost:8080/"
        },
        "id": "fh0oS_EZJnBl",
        "outputId": "3217c889-06e9-4e81-a869-882cc8c790db"
      },
      "execution_count": null,
      "outputs": [
        {
          "output_type": "stream",
          "name": "stdout",
          "text": [
            "['i', 'live', 'in', 'mumbai']\n",
            "['india', 'usa', 'australia']\n",
            "['india', 'usa,australia']\n",
            "['india,usa,australia']\n"
          ]
        }
      ]
    },
    {
      "cell_type": "code",
      "source": [
        "#Day 6\n",
        "#list\n",
        "\n",
        "l1=[10,20,30.14,\"ntt data\",2+3j,[100,200,300]]\n",
        "print(l1)\n",
        "print(type(l1))\n",
        "print(l1[0],l1[-1])\n",
        "print(l1[0:6:2])\n",
        "print(l1[::])\n",
        "print(l1[::-1])"
      ],
      "metadata": {
        "colab": {
          "base_uri": "https://localhost:8080/"
        },
        "id": "NAXjg4LATgiw",
        "outputId": "a2a8782a-03ca-4951-80bc-af152a87dbce"
      },
      "execution_count": null,
      "outputs": [
        {
          "output_type": "stream",
          "name": "stdout",
          "text": [
            "[10, 20, 30.14, 'ntt data', (2+3j), [100, 200, 300]]\n",
            "<class 'list'>\n",
            "10 [100, 200, 300]\n",
            "[10, 30.14, (2+3j)]\n",
            "[10, 20, 30.14, 'ntt data', (2+3j), [100, 200, 300]]\n",
            "[[100, 200, 300], (2+3j), 'ntt data', 30.14, 20, 10]\n"
          ]
        }
      ]
    },
    {
      "cell_type": "code",
      "source": [
        "#concatenation of list\n",
        "l1=[10,20,30]\n",
        "l2=[40,50,[60,70]]\n",
        "l3=l1+l2\n",
        "print(l3)\n",
        "print(id(l1))\n",
        "print(id(l2))\n",
        "print(id(l3))"
      ],
      "metadata": {
        "colab": {
          "base_uri": "https://localhost:8080/"
        },
        "id": "GKZnnyIXVp-6",
        "outputId": "424b5696-6764-4a88-83b0-f374f15245b5"
      },
      "execution_count": null,
      "outputs": [
        {
          "output_type": "stream",
          "name": "stdout",
          "text": [
            "[10, 20, 30, 40, 50, [60, 70]]\n",
            "135319797869120\n",
            "135319797873536\n",
            "135319797863936\n"
          ]
        }
      ]
    },
    {
      "cell_type": "code",
      "source": [
        "#multiplication of list\n",
        "l1=[10,20,30]\n",
        "print(l1*3)"
      ],
      "metadata": {
        "id": "SK4sbnusjTU9",
        "outputId": "af15e6d6-26ed-432b-dd12-6cacf4788526",
        "colab": {
          "base_uri": "https://localhost:8080/"
        }
      },
      "execution_count": 1,
      "outputs": [
        {
          "output_type": "stream",
          "name": "stdout",
          "text": [
            "[10, 20, 30, 10, 20, 30, 10, 20, 30]\n"
          ]
        }
      ]
    },
    {
      "cell_type": "code",
      "source": [
        "#iteration of list\n",
        "l1=[10,20,30,40,50]\n",
        "\n",
        "for i in l1:\n",
        "  print(i+5)"
      ],
      "metadata": {
        "id": "X97DKwOUjmlm",
        "outputId": "be5548c7-b185-43fb-9ca1-1c4ac646a48a",
        "colab": {
          "base_uri": "https://localhost:8080/"
        }
      },
      "execution_count": 2,
      "outputs": [
        {
          "output_type": "stream",
          "name": "stdout",
          "text": [
            "15\n",
            "25\n",
            "35\n",
            "45\n",
            "55\n"
          ]
        }
      ]
    },
    {
      "cell_type": "code",
      "source": [
        "#membership operator\n",
        "\n",
        "print(100 in [10,20,30,40])\n",
        "print(100 not in [10,20,30,40])"
      ],
      "metadata": {
        "id": "IRvUWl9Vj9F2",
        "outputId": "ae503b82-aea5-43b8-dc17-7a8697ae5bfa",
        "colab": {
          "base_uri": "https://localhost:8080/"
        }
      },
      "execution_count": 4,
      "outputs": [
        {
          "output_type": "stream",
          "name": "stdout",
          "text": [
            "False\n",
            "True\n"
          ]
        }
      ]
    },
    {
      "cell_type": "code",
      "source": [
        "#deletion of list\n",
        "l1=[10,20,30,40]\n",
        "print(l1)\n",
        "del l1\n",
        "print(l1)"
      ],
      "metadata": {
        "id": "-mavTPNjkToz",
        "outputId": "18fc01f7-3e0f-48c1-b3ec-0d56596047f5",
        "colab": {
          "base_uri": "https://localhost:8080/",
          "height": 193
        }
      },
      "execution_count": 5,
      "outputs": [
        {
          "output_type": "stream",
          "name": "stdout",
          "text": [
            "[10, 20, 30, 40]\n"
          ]
        },
        {
          "output_type": "error",
          "ename": "NameError",
          "evalue": "name 'l1' is not defined",
          "traceback": [
            "\u001b[0;31m---------------------------------------------------------------------------\u001b[0m",
            "\u001b[0;31mNameError\u001b[0m                                 Traceback (most recent call last)",
            "\u001b[0;32m<ipython-input-5-cf20348262b5>\u001b[0m in \u001b[0;36m<cell line: 0>\u001b[0;34m()\u001b[0m\n\u001b[1;32m      3\u001b[0m \u001b[0mprint\u001b[0m\u001b[0;34m(\u001b[0m\u001b[0ml1\u001b[0m\u001b[0;34m)\u001b[0m\u001b[0;34m\u001b[0m\u001b[0;34m\u001b[0m\u001b[0m\n\u001b[1;32m      4\u001b[0m \u001b[0;32mdel\u001b[0m \u001b[0ml1\u001b[0m\u001b[0;34m\u001b[0m\u001b[0;34m\u001b[0m\u001b[0m\n\u001b[0;32m----> 5\u001b[0;31m \u001b[0mprint\u001b[0m\u001b[0;34m(\u001b[0m\u001b[0ml1\u001b[0m\u001b[0;34m)\u001b[0m\u001b[0;34m\u001b[0m\u001b[0;34m\u001b[0m\u001b[0m\n\u001b[0m",
            "\u001b[0;31mNameError\u001b[0m: name 'l1' is not defined"
          ]
        }
      ]
    },
    {
      "cell_type": "code",
      "source": [
        "#inbuilt functions\n",
        "#max()\n",
        "\n",
        "l1=[10,200,3,500,80]\n",
        "print(max(l1))\n",
        "\n",
        "l2=[\"aaa\",\"bbbb\",\"ccc\"]\n",
        "print (max(l2))\n",
        "\n",
        "l3=[10,20,\"nttdata\"]\n",
        "#print(max(l3)) error\n",
        "\n",
        "l4=[\"aaa\",\"bbbb\",\"ccc\"]\n",
        "print (max(l4,key=len))\n",
        "\n",
        "l5=[]\n",
        "#print(max(l5)) #error\n",
        "print(max(l5,default=10))\n"
      ],
      "metadata": {
        "id": "YSmz-9linOrb",
        "outputId": "ba2b488d-4f72-45bb-90a3-dcfcbb04fc01",
        "colab": {
          "base_uri": "https://localhost:8080/"
        }
      },
      "execution_count": 11,
      "outputs": [
        {
          "output_type": "stream",
          "name": "stdout",
          "text": [
            "500\n",
            "ccc\n",
            "bbbb\n",
            "10\n"
          ]
        }
      ]
    },
    {
      "cell_type": "code",
      "source": [
        "#mini project\n",
        "def create_student_database():\n",
        "  # cretae empty dict\n",
        "  database ={}\n",
        "  return database\n",
        "\n",
        "def add_student(database):\n",
        "    #add a new student to databse\n",
        "    usn = input(\"enter the USN no:\")\n",
        "    name = input(\"enter the name:\")\n",
        "    major = input(\"enter the student dept:\")\n",
        "    database[usn]={\"name\":name,\"major\":major} #key value pair added to dictionary\n",
        "    print(\"student addedd succeessfully\")\n",
        "\n",
        "def find_student_info(database):\n",
        "  #retrieves information of the student\n",
        "  student_id=input(\"enter the usn no\")\n",
        "  student_info = database.get(student_id)\n",
        "  if student_info:\n",
        "    print(database.get(student_id)) #print student info\n",
        "  else:\n",
        "    print(\"enter correct student id\")\n",
        "\n",
        "def display_database(database):\n",
        "#print contents of databse)\n",
        "  if database:\n",
        "    print(\"student databse\")\n",
        "    print (database)\n",
        "  else:\n",
        "    print(\"database is empty\")\n",
        "\n",
        "\n",
        "#main program loop\n",
        "\n",
        "student_database=create_student_database()\n",
        "while True:\n",
        "  print(\"options\")\n",
        "  print(\"1. add student\")\n",
        "  print(\"2. Find student\")\n",
        "  print(\"3. Display database\")\n",
        "  print(\"4. Exit\")\n",
        "\n",
        "  choice = input(\"enter your choice\")\n",
        "\n",
        "  if choice == '1':\n",
        "    add_student(student_database)\n",
        "\n",
        "  elif choice == '2':\n",
        "    find_student_info(student_database)\n",
        "\n",
        "  elif choice == '3':\n",
        "    display_database(student_database)\n",
        "\n",
        "  elif choice == '4':\n",
        "    break\n",
        "\n",
        "  else:\n",
        "    print(\"its an invalid input,try again\")\n",
        "    print(\"invalid choice\")"
      ],
      "metadata": {
        "colab": {
          "base_uri": "https://localhost:8080/"
        },
        "id": "6cCtmCHQRTw_",
        "outputId": "d430206c-b24d-4bf5-d06e-524376c43505"
      },
      "execution_count": null,
      "outputs": [
        {
          "name": "stdout",
          "output_type": "stream",
          "text": [
            "options\n",
            "1. add student\n",
            "2. Find student\n",
            "3. Display database\n",
            "4. Exit\n",
            "enter your choice3\n",
            "database is empty\n",
            "options\n",
            "1. add student\n",
            "2. Find student\n",
            "3. Display database\n",
            "4. Exit\n",
            "enter your choice1\n",
            "enter the USN no:100\n",
            "enter the name:ram\n",
            "enter the student dept:cse\n",
            "student addedd succeessfully\n",
            "options\n",
            "1. add student\n",
            "2. Find student\n",
            "3. Display database\n",
            "4. Exit\n",
            "enter your choice2\n",
            "enter the usn norani\n",
            "enter correct student id\n",
            "options\n",
            "1. add student\n",
            "2. Find student\n",
            "3. Display database\n",
            "4. Exit\n",
            "enter your choice1\n",
            "enter the USN no:101\n",
            "enter the name:rani\n",
            "enter the student dept:ece\n",
            "student addedd succeessfully\n",
            "options\n",
            "1. add student\n",
            "2. Find student\n",
            "3. Display database\n",
            "4. Exit\n",
            "enter your choice3\n",
            "student databse\n",
            "{'100': {'name': 'ram', 'major': 'cse'}, '101': {'name': 'rani', 'major': 'ece'}}\n",
            "options\n",
            "1. add student\n",
            "2. Find student\n",
            "3. Display database\n",
            "4. Exit\n",
            "enter your choice4\n"
          ]
        }
      ]
    }
  ]
}