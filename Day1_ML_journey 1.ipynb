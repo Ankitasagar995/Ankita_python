{
  "nbformat": 4,
  "nbformat_minor": 0,
  "metadata": {
    "colab": {
      "provenance": []
    },
    "kernelspec": {
      "name": "python3",
      "display_name": "Python 3"
    },
    "language_info": {
      "name": "python"
    }
  },
  "cells": [
    {
      "cell_type": "code",
      "execution_count": null,
      "metadata": {
        "colab": {
          "base_uri": "https://localhost:8080/"
        },
        "id": "HpmbKqI7jltH",
        "outputId": "0ec1bf68-5f68-4ec7-f746-ea081ec8cab5"
      },
      "outputs": [
        {
          "output_type": "stream",
          "name": "stdout",
          "text": [
            "hello world\n"
          ]
        }
      ],
      "source": [
        "print(\"hello world\")"
      ]
    },
    {
      "cell_type": "code",
      "source": [
        "print(\"ankita sagar\")"
      ],
      "metadata": {
        "colab": {
          "base_uri": "https://localhost:8080/"
        },
        "id": "KCHNrhsTr3s6",
        "outputId": "b0c0516b-3208-4a7e-953c-0361cb507610"
      },
      "execution_count": null,
      "outputs": [
        {
          "output_type": "stream",
          "name": "stdout",
          "text": [
            "ankita sagar\n"
          ]
        }
      ]
    },
    {
      "cell_type": "code",
      "source": [
        "print(\"Ankita\")"
      ],
      "metadata": {
        "colab": {
          "base_uri": "https://localhost:8080/"
        },
        "id": "RwADXLYNv09v",
        "outputId": "5643d3a3-933a-4bee-8687-bdc9de73b17b"
      },
      "execution_count": null,
      "outputs": [
        {
          "output_type": "stream",
          "name": "stdout",
          "text": [
            "Ankita\n"
          ]
        }
      ]
    },
    {
      "cell_type": "code",
      "source": [
        "#day2 the following code snippets shows memory management in python\n",
        "a=100\n",
        "print(id(a))\n",
        "\n",
        "b=100\n",
        "print(id(b))\n",
        "\n",
        "c=100\n",
        "print(id(c))"
      ],
      "metadata": {
        "id": "XHnQrnS2E9wg",
        "outputId": "9b3b07ae-e218-4d0c-9b56-bc0b34d8d5cb",
        "colab": {
          "base_uri": "https://localhost:8080/"
        }
      },
      "execution_count": 1,
      "outputs": [
        {
          "output_type": "stream",
          "name": "stdout",
          "text": [
            "10754024\n",
            "10754024\n",
            "10754024\n"
          ]
        }
      ]
    },
    {
      "cell_type": "code",
      "source": [
        "a=500\n",
        "print(id(a))"
      ],
      "metadata": {
        "id": "hHa1S0k6Fj7H",
        "outputId": "a39f533e-e0f7-4282-8f18-7b54d16abdfb",
        "colab": {
          "base_uri": "https://localhost:8080/"
        }
      },
      "execution_count": 2,
      "outputs": [
        {
          "output_type": "stream",
          "name": "stdout",
          "text": [
            "139767337430512\n"
          ]
        }
      ]
    },
    {
      "cell_type": "code",
      "source": [
        "b=a\n",
        "print(id(b))"
      ],
      "metadata": {
        "id": "haTe1WsEFyPF",
        "outputId": "9c92900a-45a1-47da-92c2-9717ad4e4f5e",
        "colab": {
          "base_uri": "https://localhost:8080/"
        }
      },
      "execution_count": 3,
      "outputs": [
        {
          "output_type": "stream",
          "name": "stdout",
          "text": [
            "139767337430512\n"
          ]
        }
      ]
    },
    {
      "cell_type": "code",
      "source": [
        "a=10\n",
        "b=20\n",
        "c=30\n",
        "print(a,b,c)\n",
        "\n",
        "a,b,c = 10, 20 ,30 #variable assignment\n",
        "print(a,b,c)"
      ],
      "metadata": {
        "id": "Iv_Dgc0fGCcj",
        "outputId": "48669223-4611-4fad-e1e4-0a84e82fabf5",
        "colab": {
          "base_uri": "https://localhost:8080/"
        }
      },
      "execution_count": 5,
      "outputs": [
        {
          "output_type": "stream",
          "name": "stdout",
          "text": [
            "10 20 30\n",
            "10 20 30\n"
          ]
        }
      ]
    },
    {
      "cell_type": "code",
      "source": [
        "a=10 #variable assignment\n",
        "b=10\n",
        "c=10\n",
        "print(a,b,c)\n",
        "\n",
        "a=b=c=10\n",
        "print(a,b,c)"
      ],
      "metadata": {
        "id": "0Sl33lkLGc7w",
        "outputId": "5f4d2e4a-e18f-4cf0-8d5c-3f7b3d5913e9",
        "colab": {
          "base_uri": "https://localhost:8080/"
        }
      },
      "execution_count": 6,
      "outputs": [
        {
          "output_type": "stream",
          "name": "stdout",
          "text": [
            "10 10 10\n",
            "10 10 10\n"
          ]
        }
      ]
    },
    {
      "cell_type": "code",
      "source": [
        "import keyword\n",
        "print(keyword.kwlist) #it lists all the keywords in python"
      ],
      "metadata": {
        "id": "ZeW1m7KjHC8U",
        "outputId": "68597aaa-4867-495e-d6c0-ed7f96b70c8b",
        "colab": {
          "base_uri": "https://localhost:8080/"
        }
      },
      "execution_count": 10,
      "outputs": [
        {
          "output_type": "stream",
          "name": "stdout",
          "text": [
            "['False', 'None', 'True', 'and', 'as', 'assert', 'async', 'await', 'break', 'class', 'continue', 'def', 'del', 'elif', 'else', 'except', 'finally', 'for', 'from', 'global', 'if', 'import', 'in', 'is', 'lambda', 'nonlocal', 'not', 'or', 'pass', 'raise', 'return', 'try', 'while', 'with', 'yield']\n"
          ]
        }
      ]
    },
    {
      "cell_type": "code",
      "source": [
        "import keyword as kw\n",
        "print(kw.kwlist)"
      ],
      "metadata": {
        "id": "3d-p1TttJMvh",
        "outputId": "11e90aa1-8105-4429-b76d-d17da7def3cc",
        "colab": {
          "base_uri": "https://localhost:8080/"
        }
      },
      "execution_count": 14,
      "outputs": [
        {
          "output_type": "stream",
          "name": "stdout",
          "text": [
            "['False', 'None', 'True', 'and', 'as', 'assert', 'async', 'await', 'break', 'class', 'continue', 'def', 'del', 'elif', 'else', 'except', 'finally', 'for', 'from', 'global', 'if', 'import', 'in', 'is', 'lambda', 'nonlocal', 'not', 'or', 'pass', 'raise', 'return', 'try', 'while', 'with', 'yield']\n"
          ]
        }
      ]
    },
    {
      "cell_type": "code",
      "source": [
        "False=10 # keywords cannot be used as a variable name\n",
        "print(False)"
      ],
      "metadata": {
        "id": "VAxc1JSjHZry",
        "outputId": "733cfc17-22c6-4306-bed4-e63dadec3bdc",
        "colab": {
          "base_uri": "https://localhost:8080/",
          "height": 106
        }
      },
      "execution_count": 9,
      "outputs": [
        {
          "output_type": "error",
          "ename": "SyntaxError",
          "evalue": "cannot assign to False (<ipython-input-9-a9b307c5edad>, line 1)",
          "traceback": [
            "\u001b[0;36m  File \u001b[0;32m\"<ipython-input-9-a9b307c5edad>\"\u001b[0;36m, line \u001b[0;32m1\u001b[0m\n\u001b[0;31m    False=10\u001b[0m\n\u001b[0m    ^\u001b[0m\n\u001b[0;31mSyntaxError\u001b[0m\u001b[0;31m:\u001b[0m cannot assign to False\n"
          ]
        }
      ]
    },
    {
      "cell_type": "code",
      "source": [
        "#multiline comment\n",
        "\"\"\" dhjfkggggs\n",
        "sfsdffffffff\n",
        "fffffffffffffffff\n",
        "yyyyyyyyyyyyyy \"\"\"\n",
        "print(\"Hi\")"
      ],
      "metadata": {
        "id": "MqkII9y_IqW2",
        "outputId": "a75a722b-fb50-413d-aa35-5073d0392c53",
        "colab": {
          "base_uri": "https://localhost:8080/"
        }
      },
      "execution_count": 12,
      "outputs": [
        {
          "output_type": "stream",
          "name": "stdout",
          "text": [
            "Hi\n"
          ]
        }
      ]
    },
    {
      "cell_type": "code",
      "source": [
        "#python string\n",
        "a=\"ntt\"\n",
        "print(a)\n",
        "b= 'data'\n",
        "print (a,b)"
      ],
      "metadata": {
        "id": "ulz8SijgL8Ze",
        "outputId": "73797829-9c9e-4ed2-d337-a0fc6941406e",
        "colab": {
          "base_uri": "https://localhost:8080/"
        }
      },
      "execution_count": 15,
      "outputs": [
        {
          "output_type": "stream",
          "name": "stdout",
          "text": [
            "ntt\n",
            "ntt data\n"
          ]
        }
      ]
    },
    {
      "cell_type": "code",
      "source": [
        "#multiline string\n",
        "st= \"\"\" ghgjgjfkd\n",
        "fjgjhkkljj\n",
        "hhjgkjhkh\"\"\"\n",
        "\n",
        "print(st)"
      ],
      "metadata": {
        "id": "ufrKFjVNMIWz",
        "outputId": "0f4d1d1e-f8be-4ea0-dfaa-34e2c253a6df",
        "colab": {
          "base_uri": "https://localhost:8080/"
        }
      },
      "execution_count": 17,
      "outputs": [
        {
          "output_type": "stream",
          "name": "stdout",
          "text": [
            " ghgjgjfkd\n",
            "fjgjhkkljj\n",
            "hhjgkjhkh\n"
          ]
        }
      ]
    },
    {
      "cell_type": "code",
      "source": [
        "#Day3 - Type function\n",
        "#creating a simple list\n",
        "\n",
        "l=[1,2.2,3,[3,4,5],'ntt']\n",
        "print(l)\n",
        "print(type(l))\n",
        "\n"
      ],
      "metadata": {
        "colab": {
          "base_uri": "https://localhost:8080/"
        },
        "id": "R6n-VfhqSumX",
        "outputId": "5395bd04-cb29-4138-f01d-f7944bad1fed"
      },
      "execution_count": null,
      "outputs": [
        {
          "output_type": "stream",
          "name": "stdout",
          "text": [
            "[1, 2.2, 3, [3, 4, 5], 'ntt']\n",
            "<class 'list'>\n"
          ]
        }
      ]
    },
    {
      "cell_type": "code",
      "source": [
        "#type functin returns data type\n",
        "a=10\n",
        "print(type(a))\n"
      ],
      "metadata": {
        "colab": {
          "base_uri": "https://localhost:8080/"
        },
        "id": "2hN-OYemT-GB",
        "outputId": "4ddbcbd8-9f2f-4280-91f1-5d6e74510ca1"
      },
      "execution_count": null,
      "outputs": [
        {
          "output_type": "stream",
          "name": "stdout",
          "text": [
            "<class 'int'>\n"
          ]
        }
      ]
    },
    {
      "cell_type": "code",
      "source": [
        "#isinstance\n",
        "a=10\n",
        "b=10.2\n",
        "print(isinstance(a,int))\n",
        "print(isinstance(b,int))\n"
      ],
      "metadata": {
        "colab": {
          "base_uri": "https://localhost:8080/"
        },
        "id": "vZl-BlwrWw8O",
        "outputId": "d15b0c57-d235-4941-f480-2b6daaadab8d"
      },
      "execution_count": null,
      "outputs": [
        {
          "output_type": "stream",
          "name": "stdout",
          "text": [
            "True\n",
            "False\n"
          ]
        }
      ]
    },
    {
      "cell_type": "code",
      "source": [
        "# variable annotation\n",
        "\n",
        "aa: int = '10.99999'\n",
        "print(aa)\n",
        "\n",
        "print(__annotations__['aa'])\n",
        "print(type(aa))"
      ],
      "metadata": {
        "colab": {
          "base_uri": "https://localhost:8080/"
        },
        "id": "kr_TVZ75Yz77",
        "outputId": "c09183c6-4815-4d6b-d7a3-070b791f6fdb"
      },
      "execution_count": null,
      "outputs": [
        {
          "output_type": "stream",
          "name": "stdout",
          "text": [
            "10.99999\n",
            "<class 'int'>\n",
            "<class 'str'>\n"
          ]
        }
      ]
    },
    {
      "cell_type": "code",
      "source": [
        "#strip method"
      ],
      "metadata": {
        "id": "Gvrg_2yMTbih"
      },
      "execution_count": null,
      "outputs": []
    },
    {
      "cell_type": "code",
      "source": [
        "#mini project\n",
        "def create_student_database():\n",
        "  # cretae empty dict\n",
        "  database ={}\n",
        "  return database\n",
        "\n",
        "def add_student(database):\n",
        "    #add a new student to databse\n",
        "    usn = input(\"enter the USN no:\")\n",
        "    name = input(\"enter the name:\")\n",
        "    major = input(\"enter the student dept:\")\n",
        "    database[usn]={\"name\":name,\"major\":major} #key value pair added to dictionary\n",
        "    print(\"student addedd succeessfully\")\n",
        "\n",
        "def find_student_info(database):\n",
        "  #retrieves information of the student\n",
        "  student_id=input(\"enter the usn no\")\n",
        "  student_info = database.get(student_id)\n",
        "  if student_info:\n",
        "    print(database.get(student_id)) #print student info\n",
        "  else:\n",
        "    print(\"enter correct student id\")\n",
        "\n",
        "def display_database(database):\n",
        "#print contents of databse)\n",
        "  if database:\n",
        "    print(\"student databse\")\n",
        "    print (database)\n",
        "  else:\n",
        "    print(\"database is empty\")\n",
        "\n",
        "\n",
        "#main program loop\n",
        "\n",
        "student_database=create_student_database()\n",
        "while True:\n",
        "  print(\"options\")\n",
        "  print(\"1. add student\")\n",
        "  print(\"2. Find student\")\n",
        "  print(\"3. Display database\")\n",
        "  print(\"4. Exit\")\n",
        "\n",
        "  choice = input(\"enter your choice\")\n",
        "\n",
        "  if choice == '1':\n",
        "    add_student(student_database)\n",
        "\n",
        "  elif choice == '2':\n",
        "    find_student_info(student_database)\n",
        "\n",
        "  elif choice == '3':\n",
        "    display_database(student_database)\n",
        "\n",
        "  elif choice == '4':\n",
        "    break\n",
        "\n",
        "  else:\n",
        "    print(\"its an invalid input,try again\")\n",
        "    print(\"invalid choice\")"
      ],
      "metadata": {
        "colab": {
          "base_uri": "https://localhost:8080/"
        },
        "id": "6cCtmCHQRTw_",
        "outputId": "d430206c-b24d-4bf5-d06e-524376c43505"
      },
      "execution_count": null,
      "outputs": [
        {
          "name": "stdout",
          "output_type": "stream",
          "text": [
            "options\n",
            "1. add student\n",
            "2. Find student\n",
            "3. Display database\n",
            "4. Exit\n",
            "enter your choice3\n",
            "database is empty\n",
            "options\n",
            "1. add student\n",
            "2. Find student\n",
            "3. Display database\n",
            "4. Exit\n",
            "enter your choice1\n",
            "enter the USN no:100\n",
            "enter the name:ram\n",
            "enter the student dept:cse\n",
            "student addedd succeessfully\n",
            "options\n",
            "1. add student\n",
            "2. Find student\n",
            "3. Display database\n",
            "4. Exit\n",
            "enter your choice2\n",
            "enter the usn norani\n",
            "enter correct student id\n",
            "options\n",
            "1. add student\n",
            "2. Find student\n",
            "3. Display database\n",
            "4. Exit\n",
            "enter your choice1\n",
            "enter the USN no:101\n",
            "enter the name:rani\n",
            "enter the student dept:ece\n",
            "student addedd succeessfully\n",
            "options\n",
            "1. add student\n",
            "2. Find student\n",
            "3. Display database\n",
            "4. Exit\n",
            "enter your choice3\n",
            "student databse\n",
            "{'100': {'name': 'ram', 'major': 'cse'}, '101': {'name': 'rani', 'major': 'ece'}}\n",
            "options\n",
            "1. add student\n",
            "2. Find student\n",
            "3. Display database\n",
            "4. Exit\n",
            "enter your choice4\n"
          ]
        }
      ]
    }
  ]
}