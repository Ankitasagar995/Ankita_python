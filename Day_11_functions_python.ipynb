{
  "nbformat": 4,
  "nbformat_minor": 0,
  "metadata": {
    "colab": {
      "provenance": []
    },
    "kernelspec": {
      "name": "python3",
      "display_name": "Python 3"
    },
    "language_info": {
      "name": "python"
    }
  },
  "cells": [
    {
      "cell_type": "code",
      "execution_count": null,
      "metadata": {
        "colab": {
          "base_uri": "https://localhost:8080/"
        },
        "id": "LynczderHEfx",
        "outputId": "341612f5-47fa-4176-cb7a-3453d0392be7"
      },
      "outputs": [
        {
          "output_type": "stream",
          "name": "stdout",
          "text": [
            "Hello World\n"
          ]
        }
      ],
      "source": [
        "print(\"Hello World\")"
      ]
    },
    {
      "cell_type": "code",
      "source": [],
      "metadata": {
        "id": "KHXR6SP-AwDS"
      },
      "execution_count": null,
      "outputs": []
    },
    {
      "cell_type": "code",
      "source": [
        "#simple function\n",
        "def fun():\n",
        "  print(\"hello world\")\n",
        "  print(\"welcome\")\n",
        "\n",
        "print(\"before function call\")\n",
        "fun()\n",
        "print(\"after function call\")\n",
        "print(fun()) #first fun() will get called,but print will return None as fun() is not returning anything\n",
        "c=fun()\n",
        "print(c)"
      ],
      "metadata": {
        "colab": {
          "base_uri": "https://localhost:8080/"
        },
        "id": "chhU-qWWYIqx",
        "outputId": "eaffe43a-167a-4f14-c71d-b963a62cafc2"
      },
      "execution_count": null,
      "outputs": [
        {
          "output_type": "stream",
          "name": "stdout",
          "text": [
            "before function call\n",
            "hello world\n",
            "welcome\n",
            "after function call\n",
            "hello world\n",
            "welcome\n",
            "None\n",
            "hello world\n",
            "welcome\n",
            "None\n"
          ]
        }
      ]
    },
    {
      "cell_type": "code",
      "source": [
        "#program to print the square of a no\n",
        "#without argument,without return value\n",
        "\n",
        "def square():\n",
        "  x=int(input(\"enter a no\"))\n",
        "  y=x**2\n",
        "  print(\"square of\",x,\"is\",y)\n",
        "\n",
        "square()\n"
      ],
      "metadata": {
        "colab": {
          "base_uri": "https://localhost:8080/"
        },
        "id": "CkOdxub1ZKg7",
        "outputId": "c21c8de7-c32f-4498-c3ad-2c2e233acab7"
      },
      "execution_count": null,
      "outputs": [
        {
          "output_type": "stream",
          "name": "stdout",
          "text": [
            "enter a no8\n",
            "square of 8 is 64\n"
          ]
        }
      ]
    },
    {
      "cell_type": "code",
      "source": [
        "#with argument,with return value\n",
        "def square(x):\n",
        "\n",
        "  #y=x**2\n",
        "\n",
        "  return x**2\n",
        "\n",
        "x=int(input(\"enter a no\"))\n",
        "res=square(x)\n",
        "print(res)\n"
      ],
      "metadata": {
        "colab": {
          "base_uri": "https://localhost:8080/"
        },
        "id": "28sxusWCdR17",
        "outputId": "e23be747-c14f-44d1-e151-5ea5451c06b9"
      },
      "execution_count": null,
      "outputs": [
        {
          "output_type": "stream",
          "name": "stdout",
          "text": [
            "enter a no5\n",
            "25\n"
          ]
        }
      ]
    },
    {
      "cell_type": "code",
      "source": [
        "#with argument,without return value\n",
        "def square(x):\n",
        "\n",
        "  y=x**2\n",
        "  print(\"square of\",x,\"is\",y)\n",
        "\n",
        "x=int(input(\"enter a no\"))\n",
        "square(x)"
      ],
      "metadata": {
        "colab": {
          "base_uri": "https://localhost:8080/"
        },
        "id": "5BFGTMR_d7qP",
        "outputId": "83e3b54a-9065-4e98-bb7d-092bc7a0785f"
      },
      "execution_count": null,
      "outputs": [
        {
          "output_type": "stream",
          "name": "stdout",
          "text": [
            "enter a no7\n",
            "square of 7 is 49\n"
          ]
        }
      ]
    },
    {
      "cell_type": "code",
      "source": [
        "#without argument,with return value\n",
        "def square():\n",
        "  x=int(input(\"enter a no\"))\n",
        "  y=x**2\n",
        "  return y\n",
        "\n",
        "res=square()\n",
        "print(res)"
      ],
      "metadata": {
        "colab": {
          "base_uri": "https://localhost:8080/"
        },
        "id": "QtfyPWcweYz9",
        "outputId": "f50e77b2-e876-4105-a27c-5fce035774cc"
      },
      "execution_count": null,
      "outputs": [
        {
          "output_type": "stream",
          "name": "stdout",
          "text": [
            "enter a no78\n",
            "6084\n"
          ]
        }
      ]
    },
    {
      "cell_type": "code",
      "source": [
        "#return statement\n",
        "def test(a,b,c,d):\n",
        "  return(a,b,c,d)\n",
        "\n",
        "x,y,z,w=test(10,20,30,40)\n",
        "print(x,y,z,w)\n"
      ],
      "metadata": {
        "colab": {
          "base_uri": "https://localhost:8080/"
        },
        "id": "QDZTSxuOg2MG",
        "outputId": "21a7839d-663f-46f5-af7c-976ae8b010a2"
      },
      "execution_count": null,
      "outputs": [
        {
          "output_type": "stream",
          "name": "stdout",
          "text": [
            "10 20 30 40\n"
          ]
        }
      ]
    },
    {
      "cell_type": "code",
      "source": [
        "def test1():\n",
        "  l1=[10,20,30,40]\n",
        "  t1=(60,70,80)\n",
        "  return l1,t1\n",
        "\n",
        "x,y=test1()\n",
        "print(x,y)\n",
        "print(type(x))\n",
        "\n"
      ],
      "metadata": {
        "colab": {
          "base_uri": "https://localhost:8080/"
        },
        "id": "nVhEzmf5hRP7",
        "outputId": "0e7ce208-db38-44f9-ac56-6d01fcc27fcf"
      },
      "execution_count": null,
      "outputs": [
        {
          "output_type": "stream",
          "name": "stdout",
          "text": [
            "[10, 20, 30, 40] (60, 70, 80)\n",
            "<class 'list'>\n"
          ]
        }
      ]
    },
    {
      "cell_type": "code",
      "source": [
        "_=10\n",
        "print(_)"
      ],
      "metadata": {
        "id": "xGm9ZQ-3Aylb",
        "outputId": "166cb8cf-f498-44f5-afeb-c367cbabbe1e",
        "colab": {
          "base_uri": "https://localhost:8080/"
        }
      },
      "execution_count": 1,
      "outputs": [
        {
          "output_type": "stream",
          "name": "stdout",
          "text": [
            "10\n"
          ]
        }
      ]
    },
    {
      "cell_type": "code",
      "source": [
        "#Day13\n",
        "#function calling another function\n",
        "\n",
        "def test1():\n",
        "  print(\"I am inside test1\")\n",
        "  test2() #fn call\n",
        "  print(\"back to test1\")\n",
        "\n",
        "def test2():\n",
        "  print(\"I am in test2\")\n",
        "  print(\"going back\")\n",
        "\n",
        "test1() #fn call\n",
        "print(\"end of program\")\n"
      ],
      "metadata": {
        "id": "HqirIMpgA5XE",
        "outputId": "6f9b5613-cd0a-40e7-a26c-dba6b7164545",
        "colab": {
          "base_uri": "https://localhost:8080/"
        }
      },
      "execution_count": 3,
      "outputs": [
        {
          "output_type": "stream",
          "name": "stdout",
          "text": [
            "I am inside test1\n",
            "I am in test2\n",
            "going back\n",
            "back to test1\n",
            "end of program\n"
          ]
        }
      ]
    },
    {
      "cell_type": "code",
      "source": [
        "#local variable\n",
        "\n",
        "def test1():\n",
        "  x=20\n",
        "  x=x+1\n",
        "  print(x)\n",
        "\n",
        "test1()\n",
        "\n",
        "test1()\n",
        "test1()"
      ],
      "metadata": {
        "id": "88tuafs4DHTS",
        "outputId": "cc8392aa-bc48-4ad0-ab73-e377cc45b17b",
        "colab": {
          "base_uri": "https://localhost:8080/"
        }
      },
      "execution_count": 7,
      "outputs": [
        {
          "output_type": "stream",
          "name": "stdout",
          "text": [
            "21\n",
            "21\n",
            "21\n"
          ]
        }
      ]
    },
    {
      "cell_type": "code",
      "source": [
        "#global variable\n",
        "\n",
        "n=20\n",
        "def fun():\n",
        "  n=5 #loal varibale\n",
        "  print(n)\n",
        "\n",
        "fun()\n",
        "print(n)\n",
        "\n"
      ],
      "metadata": {
        "id": "N9Nue_r9ERm2",
        "outputId": "2b6e9410-4d9c-4b34-a06d-aa2c5a1143c0",
        "colab": {
          "base_uri": "https://localhost:8080/"
        }
      },
      "execution_count": 9,
      "outputs": [
        {
          "output_type": "stream",
          "name": "stdout",
          "text": [
            "5\n",
            "20\n"
          ]
        }
      ]
    },
    {
      "cell_type": "code",
      "source": [
        "#global variable\n",
        "\n",
        "n=20\n",
        "def fun():\n",
        "  n=n+1 #loal variable can't access\n",
        "  print(n)\n",
        "\n",
        "fun()\n",
        "print(n)"
      ],
      "metadata": {
        "id": "2udy3uEsFKuS",
        "outputId": "cb6e9e9f-218d-4df6-fa2f-4d6703392ad6",
        "colab": {
          "base_uri": "https://localhost:8080/",
          "height": 332
        }
      },
      "execution_count": 10,
      "outputs": [
        {
          "output_type": "error",
          "ename": "UnboundLocalError",
          "evalue": "cannot access local variable 'n' where it is not associated with a value",
          "traceback": [
            "\u001b[0;31m---------------------------------------------------------------------------\u001b[0m",
            "\u001b[0;31mUnboundLocalError\u001b[0m                         Traceback (most recent call last)",
            "\u001b[0;32m<ipython-input-10-ceaa31bb25da>\u001b[0m in \u001b[0;36m<cell line: 0>\u001b[0;34m()\u001b[0m\n\u001b[1;32m      6\u001b[0m   \u001b[0mprint\u001b[0m\u001b[0;34m(\u001b[0m\u001b[0mn\u001b[0m\u001b[0;34m)\u001b[0m\u001b[0;34m\u001b[0m\u001b[0;34m\u001b[0m\u001b[0m\n\u001b[1;32m      7\u001b[0m \u001b[0;34m\u001b[0m\u001b[0m\n\u001b[0;32m----> 8\u001b[0;31m \u001b[0mfun\u001b[0m\u001b[0;34m(\u001b[0m\u001b[0;34m)\u001b[0m\u001b[0;34m\u001b[0m\u001b[0;34m\u001b[0m\u001b[0m\n\u001b[0m\u001b[1;32m      9\u001b[0m \u001b[0mprint\u001b[0m\u001b[0;34m(\u001b[0m\u001b[0mn\u001b[0m\u001b[0;34m)\u001b[0m\u001b[0;34m\u001b[0m\u001b[0;34m\u001b[0m\u001b[0m\n",
            "\u001b[0;32m<ipython-input-10-ceaa31bb25da>\u001b[0m in \u001b[0;36mfun\u001b[0;34m()\u001b[0m\n\u001b[1;32m      3\u001b[0m \u001b[0mn\u001b[0m\u001b[0;34m=\u001b[0m\u001b[0;36m20\u001b[0m\u001b[0;34m\u001b[0m\u001b[0;34m\u001b[0m\u001b[0m\n\u001b[1;32m      4\u001b[0m \u001b[0;32mdef\u001b[0m \u001b[0mfun\u001b[0m\u001b[0;34m(\u001b[0m\u001b[0;34m)\u001b[0m\u001b[0;34m:\u001b[0m\u001b[0;34m\u001b[0m\u001b[0;34m\u001b[0m\u001b[0m\n\u001b[0;32m----> 5\u001b[0;31m   \u001b[0mn\u001b[0m\u001b[0;34m=\u001b[0m\u001b[0mn\u001b[0m\u001b[0;34m+\u001b[0m\u001b[0;36m1\u001b[0m \u001b[0;31m#loal varibale\u001b[0m\u001b[0;34m\u001b[0m\u001b[0;34m\u001b[0m\u001b[0m\n\u001b[0m\u001b[1;32m      6\u001b[0m   \u001b[0mprint\u001b[0m\u001b[0;34m(\u001b[0m\u001b[0mn\u001b[0m\u001b[0;34m)\u001b[0m\u001b[0;34m\u001b[0m\u001b[0;34m\u001b[0m\u001b[0m\n\u001b[1;32m      7\u001b[0m \u001b[0;34m\u001b[0m\u001b[0m\n",
            "\u001b[0;31mUnboundLocalError\u001b[0m: cannot access local variable 'n' where it is not associated with a value"
          ]
        }
      ]
    },
    {
      "cell_type": "code",
      "source": [
        "#global variable\n",
        "\n",
        "n=20\n",
        "def fun():\n",
        "  global n #global keyword\n",
        "  print(n)\n",
        "\n",
        "def test():\n",
        "  global n\n",
        "  n=n+1\n",
        "\n",
        "fun()\n",
        "test()\n",
        "print(n)"
      ],
      "metadata": {
        "id": "Kl03gn-qFkvj",
        "outputId": "3ec89024-e93a-48d6-fa1c-916e6e660e9a",
        "colab": {
          "base_uri": "https://localhost:8080/"
        }
      },
      "execution_count": 14,
      "outputs": [
        {
          "output_type": "stream",
          "name": "stdout",
          "text": [
            "20\n",
            "21\n"
          ]
        }
      ]
    },
    {
      "cell_type": "code",
      "source": [
        "#function is also an object\n"
      ],
      "metadata": {
        "id": "inHH3FkLH944"
      },
      "execution_count": null,
      "outputs": []
    }
  ]
}