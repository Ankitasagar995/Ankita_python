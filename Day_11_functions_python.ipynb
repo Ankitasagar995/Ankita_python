{
  "nbformat": 4,
  "nbformat_minor": 0,
  "metadata": {
    "colab": {
      "provenance": []
    },
    "kernelspec": {
      "name": "python3",
      "display_name": "Python 3"
    },
    "language_info": {
      "name": "python"
    }
  },
  "cells": [
    {
      "cell_type": "code",
      "execution_count": null,
      "metadata": {
        "colab": {
          "base_uri": "https://localhost:8080/"
        },
        "id": "LynczderHEfx",
        "outputId": "341612f5-47fa-4176-cb7a-3453d0392be7"
      },
      "outputs": [
        {
          "output_type": "stream",
          "name": "stdout",
          "text": [
            "Hello World\n"
          ]
        }
      ],
      "source": [
        "print(\"Hello World\")"
      ]
    },
    {
      "cell_type": "code",
      "source": [],
      "metadata": {
        "id": "KHXR6SP-AwDS"
      },
      "execution_count": null,
      "outputs": []
    },
    {
      "cell_type": "code",
      "source": [
        "#simple function\n",
        "def fun():\n",
        "  print(\"hello world\")\n",
        "  print(\"welcome\")\n",
        "\n",
        "print(\"before function call\")\n",
        "fun()\n",
        "print(\"after function call\")\n",
        "print(fun()) #first fun() will get called,but print will return None as fun() is not returning anything\n",
        "c=fun()\n",
        "print(c)"
      ],
      "metadata": {
        "colab": {
          "base_uri": "https://localhost:8080/"
        },
        "id": "chhU-qWWYIqx",
        "outputId": "eaffe43a-167a-4f14-c71d-b963a62cafc2"
      },
      "execution_count": null,
      "outputs": [
        {
          "output_type": "stream",
          "name": "stdout",
          "text": [
            "before function call\n",
            "hello world\n",
            "welcome\n",
            "after function call\n",
            "hello world\n",
            "welcome\n",
            "None\n",
            "hello world\n",
            "welcome\n",
            "None\n"
          ]
        }
      ]
    },
    {
      "cell_type": "code",
      "source": [
        "#program to print the square of a no\n",
        "#without argument,without return value\n",
        "\n",
        "def square():\n",
        "  x=int(input(\"enter a no\"))\n",
        "  y=x**2\n",
        "  print(\"square of\",x,\"is\",y)\n",
        "\n",
        "square()\n"
      ],
      "metadata": {
        "colab": {
          "base_uri": "https://localhost:8080/"
        },
        "id": "CkOdxub1ZKg7",
        "outputId": "c21c8de7-c32f-4498-c3ad-2c2e233acab7"
      },
      "execution_count": null,
      "outputs": [
        {
          "output_type": "stream",
          "name": "stdout",
          "text": [
            "enter a no8\n",
            "square of 8 is 64\n"
          ]
        }
      ]
    },
    {
      "cell_type": "code",
      "source": [
        "#with argument,with return value\n",
        "def square(x):\n",
        "  return x**2\n",
        "\n",
        "x=int(input(\"enter a no\"))\n",
        "res=square(x)\n",
        "print(res)\n"
      ],
      "metadata": {
        "colab": {
          "base_uri": "https://localhost:8080/"
        },
        "id": "28sxusWCdR17",
        "outputId": "e23be747-c14f-44d1-e151-5ea5451c06b9"
      },
      "execution_count": null,
      "outputs": [
        {
          "output_type": "stream",
          "name": "stdout",
          "text": [
            "enter a no5\n",
            "25\n"
          ]
        }
      ]
    },
    {
      "cell_type": "code",
      "source": [
        "#with argument,without return value\n",
        "def square(x):\n",
        "\n",
        "  y=x**2\n",
        "  print(\"square of\",x,\"is\",y)\n",
        "\n",
        "x=int(input(\"enter a no\"))\n",
        "square(x)"
      ],
      "metadata": {
        "colab": {
          "base_uri": "https://localhost:8080/"
        },
        "id": "5BFGTMR_d7qP",
        "outputId": "83e3b54a-9065-4e98-bb7d-092bc7a0785f"
      },
      "execution_count": null,
      "outputs": [
        {
          "output_type": "stream",
          "name": "stdout",
          "text": [
            "enter a no7\n",
            "square of 7 is 49\n"
          ]
        }
      ]
    },
    {
      "cell_type": "code",
      "source": [
        "#without argument,with return value\n",
        "def square():\n",
        "  x=int(input(\"enter a no\"))\n",
        "  y=x**2\n",
        "  return y\n",
        "\n",
        "res=square()\n",
        "print(res)"
      ],
      "metadata": {
        "colab": {
          "base_uri": "https://localhost:8080/"
        },
        "id": "QtfyPWcweYz9",
        "outputId": "f50e77b2-e876-4105-a27c-5fce035774cc"
      },
      "execution_count": null,
      "outputs": [
        {
          "output_type": "stream",
          "name": "stdout",
          "text": [
            "enter a no78\n",
            "6084\n"
          ]
        }
      ]
    },
    {
      "cell_type": "code",
      "source": [
        "#return statement\n",
        "def test(a,b,c,d):\n",
        "  return(a,b,c,d)\n",
        "\n",
        "x,y,z,w=test(10,20,30,40)\n",
        "print(x,y,z,w)\n"
      ],
      "metadata": {
        "colab": {
          "base_uri": "https://localhost:8080/"
        },
        "id": "QDZTSxuOg2MG",
        "outputId": "21a7839d-663f-46f5-af7c-976ae8b010a2"
      },
      "execution_count": null,
      "outputs": [
        {
          "output_type": "stream",
          "name": "stdout",
          "text": [
            "10 20 30 40\n"
          ]
        }
      ]
    },
    {
      "cell_type": "code",
      "source": [
        "def test1():\n",
        "  l1=[10,20,30,40]\n",
        "  t1=(60,70,80)\n",
        "  return l1,t1\n",
        "\n",
        "x,y=test1()\n",
        "print(x,y)\n",
        "print(type(x))\n",
        "\n"
      ],
      "metadata": {
        "colab": {
          "base_uri": "https://localhost:8080/"
        },
        "id": "nVhEzmf5hRP7",
        "outputId": "0e7ce208-db38-44f9-ac56-6d01fcc27fcf"
      },
      "execution_count": null,
      "outputs": [
        {
          "output_type": "stream",
          "name": "stdout",
          "text": [
            "[10, 20, 30, 40] (60, 70, 80)\n",
            "<class 'list'>\n"
          ]
        }
      ]
    },
    {
      "cell_type": "code",
      "source": [
        "_=10\n",
        "print(_)"
      ],
      "metadata": {
        "colab": {
          "base_uri": "https://localhost:8080/"
        },
        "id": "xGm9ZQ-3Aylb",
        "outputId": "166cb8cf-f498-44f5-afeb-c367cbabbe1e"
      },
      "execution_count": 1,
      "outputs": [
        {
          "output_type": "stream",
          "name": "stdout",
          "text": [
            "10\n"
          ]
        }
      ]
    },
    {
      "cell_type": "code",
      "source": [
        "#Day13\n",
        "#function calling another function\n",
        "\n",
        "def test1():\n",
        "  print(\"I am inside test1\")\n",
        "  test2() #fn call\n",
        "  print(\"back to test1\")\n",
        "\n",
        "def test2():\n",
        "  print(\"I am in test2\")\n",
        "  print(\"going back\")\n",
        "\n",
        "test1() #fn call\n",
        "print(\"end of program\")\n"
      ],
      "metadata": {
        "colab": {
          "base_uri": "https://localhost:8080/"
        },
        "id": "HqirIMpgA5XE",
        "outputId": "6f9b5613-cd0a-40e7-a26c-dba6b7164545"
      },
      "execution_count": 3,
      "outputs": [
        {
          "output_type": "stream",
          "name": "stdout",
          "text": [
            "I am inside test1\n",
            "I am in test2\n",
            "going back\n",
            "back to test1\n",
            "end of program\n"
          ]
        }
      ]
    },
    {
      "cell_type": "code",
      "source": [
        "#local variable lifetime\n",
        "\n",
        "def test1():\n",
        "  x=20\n",
        "  x=x+1\n",
        "  print(x)\n",
        "\n",
        "test1() #memory is allocated again and again\n",
        "test1()\n",
        "test1()"
      ],
      "metadata": {
        "colab": {
          "base_uri": "https://localhost:8080/"
        },
        "id": "88tuafs4DHTS",
        "outputId": "cc8392aa-bc48-4ad0-ab73-e377cc45b17b"
      },
      "execution_count": 7,
      "outputs": [
        {
          "output_type": "stream",
          "name": "stdout",
          "text": [
            "21\n",
            "21\n",
            "21\n"
          ]
        }
      ]
    },
    {
      "cell_type": "code",
      "source": [
        "#local variable scope\n",
        "\n",
        "def test1():\n",
        "  x=20\n",
        "  x=x+1\n",
        "  print(x)\n",
        "\n",
        "test1() #memory is allocated again and again\n",
        "#print(x) error as cant be accessed outside the fn\n",
        "test1()\n",
        "test1()"
      ],
      "metadata": {
        "colab": {
          "base_uri": "https://localhost:8080/",
          "height": 228
        },
        "id": "3MOj4jeMoMWH",
        "outputId": "0c336771-c0d2-4818-e099-ef63d4434200"
      },
      "execution_count": 1,
      "outputs": [
        {
          "output_type": "stream",
          "name": "stdout",
          "text": [
            "21\n"
          ]
        },
        {
          "output_type": "error",
          "ename": "NameError",
          "evalue": "name 'x' is not defined",
          "traceback": [
            "\u001b[0;31m---------------------------------------------------------------------------\u001b[0m",
            "\u001b[0;31mNameError\u001b[0m                                 Traceback (most recent call last)",
            "\u001b[0;32m<ipython-input-1-98a4783b999c>\u001b[0m in \u001b[0;36m<cell line: 0>\u001b[0;34m()\u001b[0m\n\u001b[1;32m      7\u001b[0m \u001b[0;34m\u001b[0m\u001b[0m\n\u001b[1;32m      8\u001b[0m \u001b[0mtest1\u001b[0m\u001b[0;34m(\u001b[0m\u001b[0;34m)\u001b[0m \u001b[0;31m#memory is allocated again and again\u001b[0m\u001b[0;34m\u001b[0m\u001b[0;34m\u001b[0m\u001b[0m\n\u001b[0;32m----> 9\u001b[0;31m \u001b[0mprint\u001b[0m\u001b[0;34m(\u001b[0m\u001b[0mx\u001b[0m\u001b[0;34m)\u001b[0m\u001b[0;34m\u001b[0m\u001b[0;34m\u001b[0m\u001b[0m\n\u001b[0m\u001b[1;32m     10\u001b[0m \u001b[0mtest1\u001b[0m\u001b[0;34m(\u001b[0m\u001b[0;34m)\u001b[0m\u001b[0;34m\u001b[0m\u001b[0;34m\u001b[0m\u001b[0m\n\u001b[1;32m     11\u001b[0m \u001b[0mtest1\u001b[0m\u001b[0;34m(\u001b[0m\u001b[0;34m)\u001b[0m\u001b[0;34m\u001b[0m\u001b[0;34m\u001b[0m\u001b[0m\n",
            "\u001b[0;31mNameError\u001b[0m: name 'x' is not defined"
          ]
        }
      ]
    },
    {
      "cell_type": "code",
      "source": [
        "#global variable\n",
        "\n",
        "n=20\n",
        "def fun():\n",
        "  n=5 #local varibale\n",
        "  print(n) #inside fn priority given to local variable\n",
        "\n",
        "fun()\n",
        "print(n)\n",
        "\n"
      ],
      "metadata": {
        "colab": {
          "base_uri": "https://localhost:8080/"
        },
        "id": "N9Nue_r9ERm2",
        "outputId": "2b6e9410-4d9c-4b34-a06d-aa2c5a1143c0"
      },
      "execution_count": 9,
      "outputs": [
        {
          "output_type": "stream",
          "name": "stdout",
          "text": [
            "5\n",
            "20\n"
          ]
        }
      ]
    },
    {
      "cell_type": "code",
      "source": [
        "#global variable\n",
        "\n",
        "n=20\n",
        "def fun():\n",
        "  n=n+1  #local variable can't be accessed as no value assigned inside fn\n",
        "  print(n)\n",
        "\n",
        "fun()\n",
        "print(n)"
      ],
      "metadata": {
        "colab": {
          "base_uri": "https://localhost:8080/",
          "height": 332
        },
        "id": "2udy3uEsFKuS",
        "outputId": "cb6e9e9f-218d-4df6-fa2f-4d6703392ad6"
      },
      "execution_count": 10,
      "outputs": [
        {
          "output_type": "error",
          "ename": "UnboundLocalError",
          "evalue": "cannot access local variable 'n' where it is not associated with a value",
          "traceback": [
            "\u001b[0;31m---------------------------------------------------------------------------\u001b[0m",
            "\u001b[0;31mUnboundLocalError\u001b[0m                         Traceback (most recent call last)",
            "\u001b[0;32m<ipython-input-10-ceaa31bb25da>\u001b[0m in \u001b[0;36m<cell line: 0>\u001b[0;34m()\u001b[0m\n\u001b[1;32m      6\u001b[0m   \u001b[0mprint\u001b[0m\u001b[0;34m(\u001b[0m\u001b[0mn\u001b[0m\u001b[0;34m)\u001b[0m\u001b[0;34m\u001b[0m\u001b[0;34m\u001b[0m\u001b[0m\n\u001b[1;32m      7\u001b[0m \u001b[0;34m\u001b[0m\u001b[0m\n\u001b[0;32m----> 8\u001b[0;31m \u001b[0mfun\u001b[0m\u001b[0;34m(\u001b[0m\u001b[0;34m)\u001b[0m\u001b[0;34m\u001b[0m\u001b[0;34m\u001b[0m\u001b[0m\n\u001b[0m\u001b[1;32m      9\u001b[0m \u001b[0mprint\u001b[0m\u001b[0;34m(\u001b[0m\u001b[0mn\u001b[0m\u001b[0;34m)\u001b[0m\u001b[0;34m\u001b[0m\u001b[0;34m\u001b[0m\u001b[0m\n",
            "\u001b[0;32m<ipython-input-10-ceaa31bb25da>\u001b[0m in \u001b[0;36mfun\u001b[0;34m()\u001b[0m\n\u001b[1;32m      3\u001b[0m \u001b[0mn\u001b[0m\u001b[0;34m=\u001b[0m\u001b[0;36m20\u001b[0m\u001b[0;34m\u001b[0m\u001b[0;34m\u001b[0m\u001b[0m\n\u001b[1;32m      4\u001b[0m \u001b[0;32mdef\u001b[0m \u001b[0mfun\u001b[0m\u001b[0;34m(\u001b[0m\u001b[0;34m)\u001b[0m\u001b[0;34m:\u001b[0m\u001b[0;34m\u001b[0m\u001b[0;34m\u001b[0m\u001b[0m\n\u001b[0;32m----> 5\u001b[0;31m   \u001b[0mn\u001b[0m\u001b[0;34m=\u001b[0m\u001b[0mn\u001b[0m\u001b[0;34m+\u001b[0m\u001b[0;36m1\u001b[0m \u001b[0;31m#loal varibale\u001b[0m\u001b[0;34m\u001b[0m\u001b[0;34m\u001b[0m\u001b[0m\n\u001b[0m\u001b[1;32m      6\u001b[0m   \u001b[0mprint\u001b[0m\u001b[0;34m(\u001b[0m\u001b[0mn\u001b[0m\u001b[0;34m)\u001b[0m\u001b[0;34m\u001b[0m\u001b[0;34m\u001b[0m\u001b[0m\n\u001b[1;32m      7\u001b[0m \u001b[0;34m\u001b[0m\u001b[0m\n",
            "\u001b[0;31mUnboundLocalError\u001b[0m: cannot access local variable 'n' where it is not associated with a value"
          ]
        }
      ]
    },
    {
      "cell_type": "code",
      "source": [
        "#global variable\n",
        "\n",
        "n=20\n",
        "def fun():\n",
        "  global n  #global keyword\n",
        "  n=n+1\n",
        "  print(n)\n",
        "\n",
        "def test():\n",
        "  global n  #global keyword to access global variable inside local fn\n",
        "  n=n+1\n",
        "  print(n)\n",
        "\n",
        "fun()\n",
        "test()\n",
        "print(n)"
      ],
      "metadata": {
        "colab": {
          "base_uri": "https://localhost:8080/"
        },
        "id": "y0-FxSaYqRHq",
        "outputId": "a904d516-130c-45a0-b641-2209ff4bb1af"
      },
      "execution_count": 2,
      "outputs": [
        {
          "output_type": "stream",
          "name": "stdout",
          "text": [
            "21\n",
            "22\n",
            "22\n"
          ]
        }
      ]
    },
    {
      "cell_type": "code",
      "source": [
        "#global variable\n",
        "\n",
        "n=10\n",
        "def fun():\n",
        "  global n #global keyword\n",
        "  n=n-1\n",
        "  print(n)\n",
        "\n",
        "fun()\n",
        "print(n)"
      ],
      "metadata": {
        "colab": {
          "base_uri": "https://localhost:8080/"
        },
        "id": "Kl03gn-qFkvj",
        "outputId": "1448518c-00c9-4349-ade9-4a654bf0821e"
      },
      "execution_count": 4,
      "outputs": [
        {
          "output_type": "stream",
          "name": "stdout",
          "text": [
            "9\n",
            "9\n"
          ]
        }
      ]
    },
    {
      "cell_type": "code",
      "source": [
        "#function is also an object\n",
        "\n",
        "def test():\n",
        "  print(\"hello world\")\n",
        "\n",
        "i=10\n",
        "print(type(i))\n",
        "\n",
        "print(type(test))\n",
        "print(test)"
      ],
      "metadata": {
        "colab": {
          "base_uri": "https://localhost:8080/"
        },
        "id": "inHH3FkLH944",
        "outputId": "84bebda8-40b0-48fd-feb7-be775181e9d4"
      },
      "execution_count": 6,
      "outputs": [
        {
          "output_type": "stream",
          "name": "stdout",
          "text": [
            "<class 'int'>\n",
            "<class 'function'>\n",
            "<function test at 0x7b05c2eecb80>\n"
          ]
        }
      ]
    },
    {
      "cell_type": "code",
      "source": [
        "def multiplier_factory(factor):\n",
        "  def multiplier(number):\n",
        "\n",
        "   return number * factor\n",
        "  #return the nested function\n",
        "  return multiplier #returning the inner function\n",
        "\n",
        "#create a function that multiplies by 5\n",
        "multiply_by_5 = multiplier_factory(5)\n",
        "\n",
        "#create a function that multiplies by 10\n",
        "multiply_by_10 = multiplier_factory(10)\n",
        "\n",
        "#use created functions\n",
        "result1=multiply_by_5(9)\n",
        "result2=multiply_by_10(4)\n",
        "\n",
        "print(f\"8 multiplied by 5 is: {result1}\")  # Output: 8 multiplied by 5 is: 40\n",
        "print(f\"4 multiplied by 10 is: {result2}\") # Output: 4 multiplied by 10 is: 40"
      ],
      "metadata": {
        "colab": {
          "base_uri": "https://localhost:8080/"
        },
        "id": "fr9bNoseFt6E",
        "outputId": "b90e682a-4647-4759-80c0-f9cad4014287"
      },
      "execution_count": 8,
      "outputs": [
        {
          "output_type": "stream",
          "name": "stdout",
          "text": [
            "8 multiplied by 5 is: 45\n",
            "4 multiplied by 10 is: 40\n"
          ]
        }
      ]
    },
    {
      "cell_type": "code",
      "source": [
        "#alias name for function\n",
        "\n",
        "def test1():\n",
        " print(\"hello\")\n",
        "\n",
        "a = test1\n",
        "\n",
        "a()"
      ],
      "metadata": {
        "colab": {
          "base_uri": "https://localhost:8080/"
        },
        "id": "wx5_laW01y-y",
        "outputId": "f81024f1-fe29-4871-e487-aaae04c6cf1e"
      },
      "execution_count": 10,
      "outputs": [
        {
          "output_type": "stream",
          "name": "stdout",
          "text": [
            "hello\n"
          ]
        }
      ]
    },
    {
      "cell_type": "code",
      "source": [
        "#positional arguments or required arguments\n",
        "\n",
        "def test(name,age,city):\n",
        "  print(\"my name is\",name,\"and my age is\",age,\"and basically from \",city)\n",
        "\n",
        "test(\"ram\",25,\"delhi\")\n",
        "test(25,\"ram\",\"delhi\")\n",
        "test(25,\"ram\",\"delhi\",\"cochin\") #throws error"
      ],
      "metadata": {
        "colab": {
          "base_uri": "https://localhost:8080/",
          "height": 211
        },
        "id": "4U8XCrW34MNX",
        "outputId": "07dec59d-3fbb-4364-95cc-caa07e2cfa2e"
      },
      "execution_count": 13,
      "outputs": [
        {
          "output_type": "stream",
          "name": "stdout",
          "text": [
            "my name is ram and my age is 25 and basically from  delhi\n",
            "my name is 25 and my age is ram and basically from  delhi\n"
          ]
        },
        {
          "output_type": "error",
          "ename": "TypeError",
          "evalue": "test() takes 3 positional arguments but 4 were given",
          "traceback": [
            "\u001b[0;31m---------------------------------------------------------------------------\u001b[0m",
            "\u001b[0;31mTypeError\u001b[0m                                 Traceback (most recent call last)",
            "\u001b[0;32m<ipython-input-13-1d70230f1013>\u001b[0m in \u001b[0;36m<cell line: 0>\u001b[0;34m()\u001b[0m\n\u001b[1;32m      6\u001b[0m \u001b[0mtest\u001b[0m\u001b[0;34m(\u001b[0m\u001b[0;34m\"ram\"\u001b[0m\u001b[0;34m,\u001b[0m\u001b[0;36m25\u001b[0m\u001b[0;34m,\u001b[0m\u001b[0;34m\"delhi\"\u001b[0m\u001b[0;34m)\u001b[0m\u001b[0;34m\u001b[0m\u001b[0;34m\u001b[0m\u001b[0m\n\u001b[1;32m      7\u001b[0m \u001b[0mtest\u001b[0m\u001b[0;34m(\u001b[0m\u001b[0;36m25\u001b[0m\u001b[0;34m,\u001b[0m\u001b[0;34m\"ram\"\u001b[0m\u001b[0;34m,\u001b[0m\u001b[0;34m\"delhi\"\u001b[0m\u001b[0;34m)\u001b[0m\u001b[0;34m\u001b[0m\u001b[0;34m\u001b[0m\u001b[0m\n\u001b[0;32m----> 8\u001b[0;31m \u001b[0mtest\u001b[0m\u001b[0;34m(\u001b[0m\u001b[0;36m25\u001b[0m\u001b[0;34m,\u001b[0m\u001b[0;34m\"ram\"\u001b[0m\u001b[0;34m,\u001b[0m\u001b[0;34m\"delhi\"\u001b[0m\u001b[0;34m,\u001b[0m\u001b[0;34m\"cochin\"\u001b[0m\u001b[0;34m)\u001b[0m\u001b[0;34m\u001b[0m\u001b[0;34m\u001b[0m\u001b[0m\n\u001b[0m",
            "\u001b[0;31mTypeError\u001b[0m: test() takes 3 positional arguments but 4 were given"
          ]
        }
      ]
    },
    {
      "cell_type": "code",
      "source": [
        "#keyword arguments\n",
        "\n",
        "def test(name,age,city):\n",
        "  print(\"my name is\",name,\"and my age is\",age,\"and basically from \",city)\n",
        "\n",
        "\n",
        "test(age= 25,name = \"ram\",city=\"delhi\")"
      ],
      "metadata": {
        "colab": {
          "base_uri": "https://localhost:8080/"
        },
        "id": "R_S5_XwS5MQq",
        "outputId": "b806dbbc-a72f-4685-b2c2-9752ad2c4455"
      },
      "execution_count": 14,
      "outputs": [
        {
          "output_type": "stream",
          "name": "stdout",
          "text": [
            "my name is ram and my age is 25 and basically from  delhi\n"
          ]
        }
      ]
    },
    {
      "cell_type": "code",
      "source": [
        "#keyword arguments & required/position arguments used together\n",
        "\n",
        "def test(name,current_city,city,age):\n",
        "  print(\"my name is\",name,\"and my age is\",age,\"and basically from \",city,\"but i live in\",current_city)\n",
        "\n",
        "test(\"ram\",\"delhi\",age=25,city=\"chennai\")\n",
        "#test(\"ram\",age= 25,\"delhi\") #gives error - positional argument should be given first\n",
        "\n",
        "#positional arguments-----> keyword arguments\n",
        "#keyword args sghould follow position args"
      ],
      "metadata": {
        "colab": {
          "base_uri": "https://localhost:8080/"
        },
        "id": "GEfcbgpI5jGb",
        "outputId": "0af262d7-6230-465b-da12-c3bb1d8dd6d4"
      },
      "execution_count": 28,
      "outputs": [
        {
          "output_type": "stream",
          "name": "stdout",
          "text": [
            "my name is ram and my age is 25 and basically from  chennai but i live in delhi\n"
          ]
        }
      ]
    },
    {
      "cell_type": "code",
      "source": [
        "#default arguments\n",
        "\n",
        "def student(name,age,m1,m2,m3,college=\"UVCE\"):\n",
        "  print(name,age,m1,m2,m3,college)\n",
        "\n",
        "student(\"john\",25,90,80,70)\n",
        "student(\"Rose\",21,91,86,75)\n",
        "student(\"suly\",22,97,86,77,\"ssce\") # \"ssce\" overrided the value uvce that was default"
      ],
      "metadata": {
        "colab": {
          "base_uri": "https://localhost:8080/"
        },
        "id": "XvbFXFSI9XEP",
        "outputId": "9244abbf-39a0-44e8-a4ad-d6987cefdb1f"
      },
      "execution_count": 31,
      "outputs": [
        {
          "output_type": "stream",
          "name": "stdout",
          "text": [
            "john 25 90 80 70 UVCE\n",
            "Rose 21 91 86 75 UVCE\n",
            "suly 22 97 86 77 ssce\n"
          ]
        }
      ]
    },
    {
      "cell_type": "code",
      "source": [
        "#position args------> keyword args--------> default args\n",
        "#default arguments\n",
        "\n",
        "def student(name,age,m1,m2,m3,college=\"UVCE\"):\n",
        "  print(name,age,m1,m2,m3,college)\n",
        "\n",
        "student(\"john\",age=25,m1=90,m2=80,m3=70)\n",
        "student(\"Rose\",21,91,86,75)\n",
        "student(\"suly\",22,97,86,77,\"ssce\")\n"
      ],
      "metadata": {
        "id": "KxgIpjq0JKDJ",
        "outputId": "aa002551-4c74-4075-e468-86f73c98c4de",
        "colab": {
          "base_uri": "https://localhost:8080/"
        }
      },
      "execution_count": 32,
      "outputs": [
        {
          "output_type": "stream",
          "name": "stdout",
          "text": [
            "john 25 90 80 70 UVCE\n",
            "Rose 21 91 86 75 UVCE\n",
            "suly 22 97 86 77 ssce\n"
          ]
        }
      ]
    },
    {
      "cell_type": "code",
      "source": [
        "#variable length args\n",
        "\n",
        "def fun(*a):\n",
        "  print(a)\n",
        "  print(type(a))\n",
        "\n",
        "fun(1,2)\n",
        "fun(1,2,3,4)\n",
        "fun(1,2,3)"
      ],
      "metadata": {
        "id": "1-MWqtGOLsgJ",
        "outputId": "75642ac7-1f0e-4165-8683-4f42c0aa0936",
        "colab": {
          "base_uri": "https://localhost:8080/"
        }
      },
      "execution_count": 35,
      "outputs": [
        {
          "output_type": "stream",
          "name": "stdout",
          "text": [
            "(1, 2)\n",
            "<class 'tuple'>\n",
            "(1, 2, 3, 4)\n",
            "<class 'tuple'>\n",
            "(1, 2, 3)\n",
            "<class 'tuple'>\n"
          ]
        }
      ]
    },
    {
      "cell_type": "code",
      "source": [
        "#sum using variable length args\n",
        "#variable length positional args\n",
        "\n",
        "def sum(*a):\n",
        "  s=0\n",
        "  for i in a:\n",
        "    s=s+i\n",
        "  print(s)\n",
        "  print(type(a))\n",
        "\n",
        "sum(1,2)\n",
        "sum(1,2,3,4)\n",
        "sum(1,2,3)"
      ],
      "metadata": {
        "id": "lvWUynXwMOxw",
        "outputId": "560cc08a-d070-43f2-92f2-419ba9df2344",
        "colab": {
          "base_uri": "https://localhost:8080/"
        }
      },
      "execution_count": 42,
      "outputs": [
        {
          "output_type": "stream",
          "name": "stdout",
          "text": [
            "3\n",
            "<class 'tuple'>\n",
            "10\n",
            "<class 'tuple'>\n",
            "6\n",
            "<class 'tuple'>\n"
          ]
        }
      ]
    },
    {
      "cell_type": "code",
      "source": [
        "#sum using variable length args\n",
        "#variable length keyword args\n",
        "\n",
        "def sum(**a):\n",
        "  s=0\n",
        "  for i in a.values():\n",
        "    s=s+i\n",
        "  print(s)\n",
        "  print(type(a))\n",
        "\n",
        "\n",
        "sum(a=10,b=20) #values are packed as dictionary\n",
        "sum(a=1,b=2,c=3,d=4)\n",
        "sum(a=1,b=2,c=3)"
      ],
      "metadata": {
        "id": "URR0HMe6Njed",
        "outputId": "65487d37-eaa3-4de5-fa35-c000ec44d38d",
        "colab": {
          "base_uri": "https://localhost:8080/"
        }
      },
      "execution_count": 43,
      "outputs": [
        {
          "output_type": "stream",
          "name": "stdout",
          "text": [
            "30\n",
            "<class 'dict'>\n",
            "10\n",
            "<class 'dict'>\n",
            "6\n",
            "<class 'dict'>\n"
          ]
        }
      ]
    }
  ]
}