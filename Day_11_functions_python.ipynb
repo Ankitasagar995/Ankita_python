{
  "nbformat": 4,
  "nbformat_minor": 0,
  "metadata": {
    "colab": {
      "provenance": []
    },
    "kernelspec": {
      "name": "python3",
      "display_name": "Python 3"
    },
    "language_info": {
      "name": "python"
    }
  },
  "cells": [
    {
      "cell_type": "code",
      "execution_count": null,
      "metadata": {
        "colab": {
          "base_uri": "https://localhost:8080/"
        },
        "id": "LynczderHEfx",
        "outputId": "341612f5-47fa-4176-cb7a-3453d0392be7"
      },
      "outputs": [
        {
          "output_type": "stream",
          "name": "stdout",
          "text": [
            "Hello World\n"
          ]
        }
      ],
      "source": [
        "print(\"Hello World\")"
      ]
    },
    {
      "cell_type": "code",
      "source": [
        "#simple function\n",
        "def fun():\n",
        "  print(\"hello world\")\n",
        "  print(\"welcome\")\n",
        "\n",
        "print(\"before function call\")\n",
        "fun()\n",
        "print(\"after function call\")\n",
        "print(fun()) #first fun() will get called,but print will return None as fun() is not returning anything\n",
        "c=fun()\n",
        "print(c)"
      ],
      "metadata": {
        "id": "chhU-qWWYIqx",
        "outputId": "eaffe43a-167a-4f14-c71d-b963a62cafc2",
        "colab": {
          "base_uri": "https://localhost:8080/"
        }
      },
      "execution_count": 3,
      "outputs": [
        {
          "output_type": "stream",
          "name": "stdout",
          "text": [
            "before function call\n",
            "hello world\n",
            "welcome\n",
            "after function call\n",
            "hello world\n",
            "welcome\n",
            "None\n",
            "hello world\n",
            "welcome\n",
            "None\n"
          ]
        }
      ]
    },
    {
      "cell_type": "code",
      "source": [
        "#program to print the square of a no\n",
        "#without argument,without return value\n",
        "\n",
        "def square():\n",
        "  x=int(input(\"enter a no\"))\n",
        "  y=x**2\n",
        "  print(\"square of\",x,\"is\",y)\n",
        "\n",
        "square()\n"
      ],
      "metadata": {
        "id": "CkOdxub1ZKg7",
        "outputId": "c21c8de7-c32f-4498-c3ad-2c2e233acab7",
        "colab": {
          "base_uri": "https://localhost:8080/"
        }
      },
      "execution_count": 7,
      "outputs": [
        {
          "output_type": "stream",
          "name": "stdout",
          "text": [
            "enter a no8\n",
            "square of 8 is 64\n"
          ]
        }
      ]
    },
    {
      "cell_type": "code",
      "source": [
        "#with argument,with return value\n",
        "def square(x):\n",
        "\n",
        "  #y=x**2\n",
        "\n",
        "  return x**2\n",
        "\n",
        "x=int(input(\"enter a no\"))\n",
        "res=square(x)\n",
        "print(res)\n"
      ],
      "metadata": {
        "id": "28sxusWCdR17",
        "outputId": "e23be747-c14f-44d1-e151-5ea5451c06b9",
        "colab": {
          "base_uri": "https://localhost:8080/"
        }
      },
      "execution_count": 8,
      "outputs": [
        {
          "output_type": "stream",
          "name": "stdout",
          "text": [
            "enter a no5\n",
            "25\n"
          ]
        }
      ]
    },
    {
      "cell_type": "code",
      "source": [
        "#with argument,without return value\n",
        "def square(x):\n",
        "\n",
        "  y=x**2\n",
        "  print(\"square of\",x,\"is\",y)\n",
        "\n",
        "x=int(input(\"enter a no\"))\n",
        "square(x)"
      ],
      "metadata": {
        "id": "5BFGTMR_d7qP",
        "outputId": "83e3b54a-9065-4e98-bb7d-092bc7a0785f",
        "colab": {
          "base_uri": "https://localhost:8080/"
        }
      },
      "execution_count": 9,
      "outputs": [
        {
          "output_type": "stream",
          "name": "stdout",
          "text": [
            "enter a no7\n",
            "square of 7 is 49\n"
          ]
        }
      ]
    },
    {
      "cell_type": "code",
      "source": [
        "#without argument,with return value\n",
        "def square():\n",
        "  x=int(input(\"enter a no\"))\n",
        "  y=x**2\n",
        "  return y\n",
        "\n",
        "res=square()\n",
        "print(res)"
      ],
      "metadata": {
        "id": "QtfyPWcweYz9",
        "outputId": "f50e77b2-e876-4105-a27c-5fce035774cc",
        "colab": {
          "base_uri": "https://localhost:8080/"
        }
      },
      "execution_count": 14,
      "outputs": [
        {
          "output_type": "stream",
          "name": "stdout",
          "text": [
            "enter a no78\n",
            "6084\n"
          ]
        }
      ]
    },
    {
      "cell_type": "code",
      "source": [
        "#return statement\n",
        "def test(a,b,c,d):\n",
        "  return(a,b,c,d)\n",
        "\n",
        "x,y,z,w=test(10,20,30,40)\n",
        "print(x,y,z,w)\n"
      ],
      "metadata": {
        "id": "QDZTSxuOg2MG",
        "outputId": "21a7839d-663f-46f5-af7c-976ae8b010a2",
        "colab": {
          "base_uri": "https://localhost:8080/"
        }
      },
      "execution_count": 16,
      "outputs": [
        {
          "output_type": "stream",
          "name": "stdout",
          "text": [
            "10 20 30 40\n"
          ]
        }
      ]
    },
    {
      "cell_type": "code",
      "source": [
        "def test1():\n",
        "  l1=[10,20,30,40]\n",
        "  t1=(60,70,80)\n",
        "  return l1,t1\n",
        "\n",
        "x,y=test1()\n",
        "print(x,y)\n",
        "print(type(x))\n",
        "\n"
      ],
      "metadata": {
        "id": "nVhEzmf5hRP7",
        "outputId": "0e7ce208-db38-44f9-ac56-6d01fcc27fcf",
        "colab": {
          "base_uri": "https://localhost:8080/"
        }
      },
      "execution_count": 19,
      "outputs": [
        {
          "output_type": "stream",
          "name": "stdout",
          "text": [
            "[10, 20, 30, 40] (60, 70, 80)\n",
            "<class 'list'>\n"
          ]
        }
      ]
    }
  ]
}